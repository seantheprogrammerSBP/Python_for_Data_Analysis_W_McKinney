{
 "cells": [
  {
   "cell_type": "markdown",
   "id": "06af6161-eb72-4589-9ec6-fb5e4691755e",
   "metadata": {},
   "source": [
    "# Chapter 2"
   ]
  },
  {
   "cell_type": "markdown",
   "id": "732420c7-d48a-4ceb-9e7c-60f7558e8bbe",
   "metadata": {},
   "source": [
    "### Setup"
   ]
  },
  {
   "cell_type": "code",
   "execution_count": 48,
   "id": "79a4d3a9-9683-4452-9a19-3d161a5ea140",
   "metadata": {},
   "outputs": [],
   "source": [
    "import numpy as np\n",
    "import pandas as pd\n",
    "pd.options.display.max_columns = 20\n",
    "pd.options.display.max_rows = 20\n",
    "pd.options.display.max_colwidth = 80\n",
    "np.set_printoptions(precision=4, suppress=True)"
   ]
  },
  {
   "cell_type": "markdown",
   "id": "ab4e8032-969b-447f-9e07-3631197a795d",
   "metadata": {},
   "source": [
    "### 2.2"
   ]
  },
  {
   "cell_type": "code",
   "execution_count": 49,
   "id": "b08973b2-db49-4b3e-b798-8fdf780f0a7b",
   "metadata": {},
   "outputs": [],
   "source": [
    "data = [np.random.standard_normal() for i in range(7)]"
   ]
  },
  {
   "cell_type": "code",
   "execution_count": 50,
   "id": "4593602e-41d9-4966-9dcb-e58e612e2d11",
   "metadata": {},
   "outputs": [
    {
     "data": {
      "text/plain": [
       "[-0.2458883430977779,\n",
       " 1.3830720128471132,\n",
       " 0.4620040342905419,\n",
       " -0.12203063795538238,\n",
       " -0.4101969825343936,\n",
       " -1.0328472644701168,\n",
       " 1.1532048306310931]"
      ]
     },
     "execution_count": 50,
     "metadata": {},
     "output_type": "execute_result"
    }
   ],
   "source": [
    "data"
   ]
  },
  {
   "cell_type": "code",
   "execution_count": 51,
   "id": "119f0458-a687-4ddd-a9bb-72d94c8b2ba8",
   "metadata": {},
   "outputs": [],
   "source": [
    "b = [1, 2, 3]"
   ]
  },
  {
   "cell_type": "code",
   "execution_count": 52,
   "id": "1d2eb8d6-ff31-4714-9f63-6278ed840da8",
   "metadata": {},
   "outputs": [],
   "source": [
    "b.append(4)"
   ]
  },
  {
   "cell_type": "code",
   "execution_count": 53,
   "id": "3ea04e54-9d03-4a97-82c0-beadc532c52b",
   "metadata": {},
   "outputs": [
    {
     "data": {
      "text/plain": [
       "[1, 2, 3, 4]"
      ]
     },
     "execution_count": 53,
     "metadata": {},
     "output_type": "execute_result"
    }
   ],
   "source": [
    "b"
   ]
  },
  {
   "cell_type": "markdown",
   "id": "2e3e6d44-21c8-4aff-a39b-00b786d3b460",
   "metadata": {},
   "source": [
    "### Variables in agrument passing"
   ]
  },
  {
   "cell_type": "code",
   "execution_count": 54,
   "id": "178986aa-f610-4360-8c71-a3d755f302d5",
   "metadata": {},
   "outputs": [],
   "source": [
    "def append_element(some_list, element):\n",
    "    some_list.append(element)"
   ]
  },
  {
   "cell_type": "code",
   "execution_count": 55,
   "id": "3edb8f9b-b9e2-4fd3-928b-5006d0111431",
   "metadata": {},
   "outputs": [],
   "source": [
    "data = [1, 2, 3]"
   ]
  },
  {
   "cell_type": "code",
   "execution_count": 56,
   "id": "033ff5b9-61ec-4b9f-bfdb-a7bd6e0e2be1",
   "metadata": {},
   "outputs": [],
   "source": [
    "append_element(data, 4)"
   ]
  },
  {
   "cell_type": "code",
   "execution_count": 57,
   "id": "eab44ffd-a95f-4661-8f2b-71f3f115f4f7",
   "metadata": {},
   "outputs": [
    {
     "data": {
      "text/plain": [
       "[1, 2, 3, 4]"
      ]
     },
     "execution_count": 57,
     "metadata": {},
     "output_type": "execute_result"
    }
   ],
   "source": [
    "data"
   ]
  },
  {
   "cell_type": "code",
   "execution_count": 58,
   "id": "88f780f2-5453-4c18-bf53-cc2e97763d1d",
   "metadata": {},
   "outputs": [],
   "source": [
    "a = 5"
   ]
  },
  {
   "cell_type": "code",
   "execution_count": 59,
   "id": "2a2f493b-4885-4ed6-b33f-128c5a73e586",
   "metadata": {},
   "outputs": [
    {
     "data": {
      "text/plain": [
       "True"
      ]
     },
     "execution_count": 59,
     "metadata": {},
     "output_type": "execute_result"
    }
   ],
   "source": [
    "isinstance(a, int)"
   ]
  },
  {
   "cell_type": "markdown",
   "id": "11c3919e-f861-44f6-b92f-756931048f6a",
   "metadata": {},
   "source": [
    "### 2.3 Strings and other things"
   ]
  },
  {
   "cell_type": "code",
   "execution_count": 60,
   "id": "caf3c1eb-f5d7-4cd6-a7bf-fa19772738e4",
   "metadata": {},
   "outputs": [],
   "source": [
    "template = \"{0:.2f} {1:s} are worth US${2:d}\""
   ]
  },
  {
   "cell_type": "code",
   "execution_count": 61,
   "id": "dff8c619-26e4-4be7-8a1e-fe8ba427938b",
   "metadata": {},
   "outputs": [
    {
     "data": {
      "text/plain": [
       "'88.46 Argentine Pesos are worth US$1'"
      ]
     },
     "execution_count": 61,
     "metadata": {},
     "output_type": "execute_result"
    }
   ],
   "source": [
    "template.format(88.46, \"Argentine Pesos\", 1)"
   ]
  },
  {
   "cell_type": "code",
   "execution_count": 62,
   "id": "b57b02ca-9961-41ca-8c2a-a7d00963a6c8",
   "metadata": {},
   "outputs": [],
   "source": [
    "amount = 10"
   ]
  },
  {
   "cell_type": "code",
   "execution_count": 63,
   "id": "65f6fc17-9c6a-4a01-b634-3739e1233058",
   "metadata": {},
   "outputs": [],
   "source": [
    "rate = 88.46"
   ]
  },
  {
   "cell_type": "code",
   "execution_count": 64,
   "id": "3e81db1c-df8d-43c7-9e06-438fcce7b6ce",
   "metadata": {},
   "outputs": [],
   "source": [
    "currency = \"Pesos\""
   ]
  },
  {
   "cell_type": "code",
   "execution_count": 65,
   "id": "144e1f3c-6c6e-43d1-a9bc-ccca3ab99d82",
   "metadata": {},
   "outputs": [
    {
     "data": {
      "text/plain": [
       "'10 Pesos is worth US$0.11'"
      ]
     },
     "execution_count": 65,
     "metadata": {},
     "output_type": "execute_result"
    }
   ],
   "source": [
    "f\"{amount} {currency} is worth US${amount / rate:.2f}\""
   ]
  },
  {
   "cell_type": "markdown",
   "id": "ef9910a8-6397-48e6-a0ea-ce40893061a9",
   "metadata": {},
   "source": [
    "### Booleans"
   ]
  },
  {
   "cell_type": "code",
   "execution_count": 66,
   "id": "1eebb948-990d-479a-a677-d3544c88eed6",
   "metadata": {},
   "outputs": [
    {
     "data": {
      "text/plain": [
       "0"
      ]
     },
     "execution_count": 66,
     "metadata": {},
     "output_type": "execute_result"
    }
   ],
   "source": [
    "int(False)"
   ]
  },
  {
   "cell_type": "code",
   "execution_count": 67,
   "id": "01c70232-96f7-410b-8c77-d6335c48772e",
   "metadata": {},
   "outputs": [
    {
     "data": {
      "text/plain": [
       "1"
      ]
     },
     "execution_count": 67,
     "metadata": {},
     "output_type": "execute_result"
    }
   ],
   "source": [
    "int(True)"
   ]
  },
  {
   "cell_type": "code",
   "execution_count": 68,
   "id": "bf5dc778-5cda-47cf-8bba-519e10a671bc",
   "metadata": {},
   "outputs": [],
   "source": [
    "a = True\n",
    "b = False"
   ]
  },
  {
   "cell_type": "code",
   "execution_count": 69,
   "id": "4ea18d45-6e9d-44cc-9ddd-cfe88a6cd721",
   "metadata": {},
   "outputs": [
    {
     "data": {
      "text/plain": [
       "False"
      ]
     },
     "execution_count": 69,
     "metadata": {},
     "output_type": "execute_result"
    }
   ],
   "source": [
    "not a"
   ]
  },
  {
   "cell_type": "code",
   "execution_count": 70,
   "id": "d4dba33f-d156-4cf3-a6b4-35caf85c8641",
   "metadata": {},
   "outputs": [
    {
     "data": {
      "text/plain": [
       "True"
      ]
     },
     "execution_count": 70,
     "metadata": {},
     "output_type": "execute_result"
    }
   ],
   "source": [
    "not b"
   ]
  },
  {
   "cell_type": "markdown",
   "id": "feabf3b1-ab29-4860-839f-aa35b432d253",
   "metadata": {},
   "source": [
    "### Type casting"
   ]
  },
  {
   "cell_type": "code",
   "execution_count": 71,
   "id": "246dd6ad-71a7-442c-b8d9-4be342c61e3d",
   "metadata": {},
   "outputs": [],
   "source": [
    "s = \"3.14159\""
   ]
  },
  {
   "cell_type": "code",
   "execution_count": 72,
   "id": "dd4c129d-1394-41a7-801b-a58bb8647d33",
   "metadata": {},
   "outputs": [],
   "source": [
    "fval = float(s)"
   ]
  },
  {
   "cell_type": "code",
   "execution_count": 73,
   "id": "3dc34ff7-ec62-4ce9-8aea-a4a62f0d2e69",
   "metadata": {},
   "outputs": [
    {
     "data": {
      "text/plain": [
       "float"
      ]
     },
     "execution_count": 73,
     "metadata": {},
     "output_type": "execute_result"
    }
   ],
   "source": [
    "type(fval)"
   ]
  },
  {
   "cell_type": "code",
   "execution_count": 74,
   "id": "f8235c50-5ee4-4208-9e7a-18b6df6ac50a",
   "metadata": {},
   "outputs": [
    {
     "data": {
      "text/plain": [
       "3"
      ]
     },
     "execution_count": 74,
     "metadata": {},
     "output_type": "execute_result"
    }
   ],
   "source": [
    "int(fval)"
   ]
  },
  {
   "cell_type": "code",
   "execution_count": 75,
   "id": "4d1d5324-30fb-44a1-8205-b8b8302af64e",
   "metadata": {},
   "outputs": [
    {
     "data": {
      "text/plain": [
       "True"
      ]
     },
     "execution_count": 75,
     "metadata": {},
     "output_type": "execute_result"
    }
   ],
   "source": [
    "bool(fval)"
   ]
  },
  {
   "cell_type": "code",
   "execution_count": 76,
   "id": "d3c20b85-5227-4cf7-8e53-fbe1bc8521f9",
   "metadata": {},
   "outputs": [
    {
     "data": {
      "text/plain": [
       "False"
      ]
     },
     "execution_count": 76,
     "metadata": {},
     "output_type": "execute_result"
    }
   ],
   "source": [
    "bool(0)"
   ]
  },
  {
   "cell_type": "markdown",
   "id": "bed8dc5d-8e74-472a-9b57-8110760d6521",
   "metadata": {},
   "source": [
    "#### Note that most nonzero values when cast to bool become True"
   ]
  },
  {
   "cell_type": "markdown",
   "id": "2e9da474-e8ba-4181-a9fa-b20c9399bcc8",
   "metadata": {},
   "source": [
    "### None"
   ]
  },
  {
   "cell_type": "markdown",
   "id": "1dd42c64-edd2-4a55-be3e-2e0052341bd1",
   "metadata": {},
   "source": [
    "#### None is the Python null value type:"
   ]
  },
  {
   "cell_type": "code",
   "execution_count": 77,
   "id": "ff2d9c8e-a21e-450d-bef0-57d79b14a4a0",
   "metadata": {},
   "outputs": [],
   "source": [
    "a = None"
   ]
  },
  {
   "cell_type": "code",
   "execution_count": 78,
   "id": "d68e0f62-3d23-458a-9656-931033389f0c",
   "metadata": {},
   "outputs": [
    {
     "data": {
      "text/plain": [
       "True"
      ]
     },
     "execution_count": 78,
     "metadata": {},
     "output_type": "execute_result"
    }
   ],
   "source": [
    "a is None"
   ]
  },
  {
   "cell_type": "code",
   "execution_count": 79,
   "id": "ebbc16a3-99df-49e0-850f-a305525701e1",
   "metadata": {},
   "outputs": [],
   "source": [
    "b = 5"
   ]
  },
  {
   "cell_type": "code",
   "execution_count": 80,
   "id": "79793461-a629-4443-825d-42129e84c4b9",
   "metadata": {},
   "outputs": [
    {
     "data": {
      "text/plain": [
       "True"
      ]
     },
     "execution_count": 80,
     "metadata": {},
     "output_type": "execute_result"
    }
   ],
   "source": [
    "b is not None"
   ]
  },
  {
   "cell_type": "markdown",
   "id": "fca870c4-2762-4d8f-a311-26a687e4e183",
   "metadata": {},
   "source": [
    "#### None is also a common default value for function arguments:"
   ]
  },
  {
   "cell_type": "code",
   "execution_count": 81,
   "id": "176f9d0f-6d2f-479c-a6b6-7fe1a7b01ed0",
   "metadata": {},
   "outputs": [],
   "source": [
    "def add_add_maybe_multiply(a, b, c=None):\n",
    "    result = a + b\n",
    "    \n",
    "    if c is not None:\n",
    "        result = result * c\n",
    "        \n",
    "    return result"
   ]
  },
  {
   "cell_type": "markdown",
   "id": "d002cdba-f29f-4d57-973e-af1d03f3fa86",
   "metadata": {},
   "source": [
    "### Dates and times"
   ]
  },
  {
   "cell_type": "code",
   "execution_count": 82,
   "id": "ff550bdb-4ece-489d-a039-fc48bf11e39c",
   "metadata": {},
   "outputs": [],
   "source": [
    "from datetime import datetime, date, time"
   ]
  },
  {
   "cell_type": "code",
   "execution_count": 83,
   "id": "9c582039-3ea7-4ab7-968b-b262fe338a3c",
   "metadata": {},
   "outputs": [],
   "source": [
    "dt = datetime(2011, 10, 29, 20, 30, 21)"
   ]
  },
  {
   "cell_type": "code",
   "execution_count": 84,
   "id": "b7bee376-8061-4ae9-b091-3f92a196a3a0",
   "metadata": {},
   "outputs": [
    {
     "data": {
      "text/plain": [
       "29"
      ]
     },
     "execution_count": 84,
     "metadata": {},
     "output_type": "execute_result"
    }
   ],
   "source": [
    "dt.day"
   ]
  },
  {
   "cell_type": "code",
   "execution_count": 85,
   "id": "1e5454f6-aa2c-4d9d-bd45-ce453365bddc",
   "metadata": {},
   "outputs": [
    {
     "data": {
      "text/plain": [
       "30"
      ]
     },
     "execution_count": 85,
     "metadata": {},
     "output_type": "execute_result"
    }
   ],
   "source": [
    "dt.minute"
   ]
  },
  {
   "cell_type": "code",
   "execution_count": 86,
   "id": "196c3970-1597-4096-84ad-f63c0b2d69bf",
   "metadata": {},
   "outputs": [
    {
     "data": {
      "text/plain": [
       "datetime.date(2011, 10, 29)"
      ]
     },
     "execution_count": 86,
     "metadata": {},
     "output_type": "execute_result"
    }
   ],
   "source": [
    "dt.date()"
   ]
  },
  {
   "cell_type": "code",
   "execution_count": 87,
   "id": "7e248ac3-0971-451d-844b-9f6fc69864ac",
   "metadata": {},
   "outputs": [
    {
     "data": {
      "text/plain": [
       "datetime.time(20, 30, 21)"
      ]
     },
     "execution_count": 87,
     "metadata": {},
     "output_type": "execute_result"
    }
   ],
   "source": [
    "dt.time()"
   ]
  },
  {
   "cell_type": "code",
   "execution_count": 88,
   "id": "30af5ff3-b22e-4cc6-ab64-759314e87ef6",
   "metadata": {},
   "outputs": [
    {
     "data": {
      "text/plain": [
       "'2011-10-29 20:30'"
      ]
     },
     "execution_count": 88,
     "metadata": {},
     "output_type": "execute_result"
    }
   ],
   "source": [
    "dt.strftime(\"%Y-%m-%d %H:%M\")"
   ]
  },
  {
   "cell_type": "code",
   "execution_count": 89,
   "id": "cdaeb111-9c7f-45ab-99d4-776966f5793f",
   "metadata": {},
   "outputs": [
    {
     "data": {
      "text/plain": [
       "datetime.datetime(2009, 10, 31, 0, 0)"
      ]
     },
     "execution_count": 89,
     "metadata": {},
     "output_type": "execute_result"
    }
   ],
   "source": [
    "datetime.strptime(\"20091031\", \"%Y%m%d\")"
   ]
  },
  {
   "cell_type": "code",
   "execution_count": 90,
   "id": "42094b3a-b470-44ca-97ba-69e9763afc6f",
   "metadata": {},
   "outputs": [],
   "source": [
    "dt_hour = dt.replace(minute=0, second=0)"
   ]
  },
  {
   "cell_type": "code",
   "execution_count": 91,
   "id": "9abfea68-a476-42f1-9100-6d3dac41aa53",
   "metadata": {},
   "outputs": [
    {
     "data": {
      "text/plain": [
       "datetime.datetime(2011, 10, 29, 20, 0)"
      ]
     },
     "execution_count": 91,
     "metadata": {},
     "output_type": "execute_result"
    }
   ],
   "source": [
    "dt_hour"
   ]
  },
  {
   "cell_type": "code",
   "execution_count": 92,
   "id": "f8114cfa-1752-43ce-90d3-be416170dd3f",
   "metadata": {},
   "outputs": [
    {
     "data": {
      "text/plain": [
       "datetime.datetime(2011, 10, 29, 20, 30, 21)"
      ]
     },
     "execution_count": 92,
     "metadata": {},
     "output_type": "execute_result"
    }
   ],
   "source": [
    "dt"
   ]
  },
  {
   "cell_type": "code",
   "execution_count": 93,
   "id": "f0199954-db9c-487e-b404-8722b7ed8a45",
   "metadata": {},
   "outputs": [],
   "source": [
    "dt2 = datetime(2011, 11, 15, 22, 30)"
   ]
  },
  {
   "cell_type": "code",
   "execution_count": 95,
   "id": "e73b7e6e-5616-410e-a07f-722bdcdfb6e4",
   "metadata": {},
   "outputs": [],
   "source": [
    "delta = dt2 - dt"
   ]
  },
  {
   "cell_type": "code",
   "execution_count": 96,
   "id": "bf52f425-1dc8-4115-964c-58055400a88f",
   "metadata": {},
   "outputs": [
    {
     "data": {
      "text/plain": [
       "datetime.timedelta(days=17, seconds=7179)"
      ]
     },
     "execution_count": 96,
     "metadata": {},
     "output_type": "execute_result"
    }
   ],
   "source": [
    "delta"
   ]
  },
  {
   "cell_type": "code",
   "execution_count": 97,
   "id": "5efad16f-3bef-48cb-bab0-1fd277bf880c",
   "metadata": {},
   "outputs": [
    {
     "data": {
      "text/plain": [
       "datetime.timedelta"
      ]
     },
     "execution_count": 97,
     "metadata": {},
     "output_type": "execute_result"
    }
   ],
   "source": [
    "type(delta)"
   ]
  },
  {
   "cell_type": "code",
   "execution_count": 98,
   "id": "92d6578d-9f2e-41c5-a17c-4a6e31ad453d",
   "metadata": {},
   "outputs": [
    {
     "data": {
      "text/plain": [
       "datetime.datetime(2011, 11, 15, 22, 30)"
      ]
     },
     "execution_count": 98,
     "metadata": {},
     "output_type": "execute_result"
    }
   ],
   "source": [
    "dt + delta"
   ]
  },
  {
   "cell_type": "markdown",
   "id": "a05806f5-8e36-4685-8a3c-c61a4c5941a9",
   "metadata": {},
   "source": [
    "## Control Flow"
   ]
  },
  {
   "cell_type": "code",
   "execution_count": 99,
   "id": "d266d0f5-2802-482e-bae9-b912ea3aecd1",
   "metadata": {},
   "outputs": [
    {
     "name": "stdout",
     "output_type": "stream",
     "text": [
      "It's negative\n"
     ]
    }
   ],
   "source": [
    "x = -5\n",
    "if x < 0:\n",
    "    print(\"It's negative\")"
   ]
  },
  {
   "cell_type": "code",
   "execution_count": 100,
   "id": "aee34cca-ee40-493a-90fa-00d3ede299bb",
   "metadata": {},
   "outputs": [],
   "source": [
    "a = 5; b = 7; c = 8; d = 4;"
   ]
  },
  {
   "cell_type": "code",
   "execution_count": 101,
   "id": "3a5a8d01-a1f3-4441-9063-e9422ca6bf05",
   "metadata": {},
   "outputs": [
    {
     "name": "stdout",
     "output_type": "stream",
     "text": [
      "made it!\n"
     ]
    }
   ],
   "source": [
    "if a < b or c > d:\n",
    "    print(\"made it!\")"
   ]
  },
  {
   "cell_type": "code",
   "execution_count": 102,
   "id": "1882700f-62ec-461e-b8bb-536a6bcb21ac",
   "metadata": {},
   "outputs": [
    {
     "data": {
      "text/plain": [
       "True"
      ]
     },
     "execution_count": 102,
     "metadata": {},
     "output_type": "execute_result"
    }
   ],
   "source": [
    "4 > 3 > 2 > 1"
   ]
  },
  {
   "cell_type": "markdown",
   "id": "aab23ed6-6e37-477e-b57b-8a897be9ad46",
   "metadata": {},
   "source": [
    "### for loops"
   ]
  },
  {
   "cell_type": "code",
   "execution_count": 103,
   "id": "a534dbe3-4ee9-47fd-a5a0-402f7b6db595",
   "metadata": {},
   "outputs": [],
   "source": [
    "sequence = [1, 2, None, 4, None, 5]"
   ]
  },
  {
   "cell_type": "code",
   "execution_count": 104,
   "id": "add205ae-678d-48c8-90d8-01c39fc9b193",
   "metadata": {},
   "outputs": [],
   "source": [
    "total = 0"
   ]
  },
  {
   "cell_type": "code",
   "execution_count": 105,
   "id": "d895794d-8d53-43fa-9d59-c68ef236ad3d",
   "metadata": {},
   "outputs": [],
   "source": [
    "for value in sequence:\n",
    "    if value is None:\n",
    "        continue\n",
    "    total += value"
   ]
  },
  {
   "cell_type": "code",
   "execution_count": 106,
   "id": "ca1878d4-8a5b-4a19-a812-ddab056ab7d9",
   "metadata": {},
   "outputs": [
    {
     "name": "stdout",
     "output_type": "stream",
     "text": [
      "12\n"
     ]
    }
   ],
   "source": [
    "print(total)"
   ]
  },
  {
   "cell_type": "markdown",
   "id": "e5f8b318-9214-46e6-91bd-e46528628672",
   "metadata": {},
   "source": [
    "#### while loops"
   ]
  },
  {
   "cell_type": "code",
   "execution_count": 107,
   "id": "db7651a6-23be-4c92-a9eb-cd0a0b68460d",
   "metadata": {},
   "outputs": [],
   "source": [
    "x = 256\n",
    "total = 0\n",
    "while x > 0:\n",
    "    if total > 500:\n",
    "        break\n",
    "    total += x\n",
    "    x = x // 2"
   ]
  },
  {
   "cell_type": "code",
   "execution_count": 108,
   "id": "b85f3c9b-4d03-4328-a028-e980599242cd",
   "metadata": {},
   "outputs": [
    {
     "name": "stdout",
     "output_type": "stream",
     "text": [
      "504\n"
     ]
    }
   ],
   "source": [
    "print(total)"
   ]
  },
  {
   "cell_type": "code",
   "execution_count": 109,
   "id": "eb2c3d39-8b13-415d-9409-f8b7624055ba",
   "metadata": {},
   "outputs": [
    {
     "name": "stdout",
     "output_type": "stream",
     "text": [
      "4\n"
     ]
    }
   ],
   "source": [
    "print(x)"
   ]
  },
  {
   "cell_type": "markdown",
   "id": "31303183-d268-4135-9c9a-dc9793781dcf",
   "metadata": {},
   "source": [
    "### range"
   ]
  },
  {
   "cell_type": "code",
   "execution_count": 110,
   "id": "2cf71e46-3d6e-498e-ab25-5d9c1f0c02ae",
   "metadata": {},
   "outputs": [
    {
     "data": {
      "text/plain": [
       "range(0, 10)"
      ]
     },
     "execution_count": 110,
     "metadata": {},
     "output_type": "execute_result"
    }
   ],
   "source": [
    "range(10)"
   ]
  },
  {
   "cell_type": "code",
   "execution_count": 111,
   "id": "a0ced7df-9b97-4f98-8f6c-9017a92ea3e4",
   "metadata": {},
   "outputs": [
    {
     "data": {
      "text/plain": [
       "[0, 1, 2, 3, 4, 5, 6, 7, 8, 9]"
      ]
     },
     "execution_count": 111,
     "metadata": {},
     "output_type": "execute_result"
    }
   ],
   "source": [
    "list(range(10))"
   ]
  },
  {
   "cell_type": "code",
   "execution_count": 115,
   "id": "3d06e38a-10bb-4765-bd5e-672bdfc70bbd",
   "metadata": {},
   "outputs": [
    {
     "data": {
      "text/plain": [
       "[0, 2, 4, 6, 8, 10, 12, 14, 16, 18, 20]"
      ]
     },
     "execution_count": 115,
     "metadata": {},
     "output_type": "execute_result"
    }
   ],
   "source": [
    "list(range(0, 21, 2))"
   ]
  },
  {
   "cell_type": "code",
   "execution_count": 116,
   "id": "2d78e5dc-f764-469d-b545-aa76dd24bc7a",
   "metadata": {},
   "outputs": [
    {
     "data": {
      "text/plain": [
       "[5, 4, 3, 2, 1]"
      ]
     },
     "execution_count": 116,
     "metadata": {},
     "output_type": "execute_result"
    }
   ],
   "source": [
    "list(range(5, 0, -1))"
   ]
  },
  {
   "cell_type": "code",
   "execution_count": 117,
   "id": "f9ea1cec-ff08-4522-a40c-d77759d6516c",
   "metadata": {},
   "outputs": [],
   "source": [
    "seq = [1, 2, 3, 4]"
   ]
  },
  {
   "cell_type": "code",
   "execution_count": 119,
   "id": "14cffca9-aba2-4a4f-aeed-7266ca43aa7b",
   "metadata": {},
   "outputs": [
    {
     "name": "stdout",
     "output_type": "stream",
     "text": [
      "element 0: 1\n",
      "element 1: 2\n",
      "element 2: 3\n",
      "element 3: 4\n"
     ]
    }
   ],
   "source": [
    "for i in range(len(seq)):\n",
    "    print(f\"element {i}: {seq[i]}\")"
   ]
  },
  {
   "cell_type": "code",
   "execution_count": 120,
   "id": "c68e1e93-164a-47df-849c-bc5e099314c9",
   "metadata": {},
   "outputs": [],
   "source": [
    "total = 0 \n",
    "\n",
    "for i in range(100_000):\n",
    "    # % is the modulo operator\n",
    "    if i % 3 == 0 or i % 5 == 0:\n",
    "        total += i"
   ]
  },
  {
   "cell_type": "code",
   "execution_count": 121,
   "id": "c7db6a18-79aa-4f09-9990-74b622bb52fb",
   "metadata": {},
   "outputs": [
    {
     "name": "stdout",
     "output_type": "stream",
     "text": [
      "2333316668\n"
     ]
    }
   ],
   "source": [
    "print(total)"
   ]
  },
  {
   "cell_type": "code",
   "execution_count": null,
   "id": "9ab1c843-38f4-4d1a-8513-e341a8faf354",
   "metadata": {},
   "outputs": [],
   "source": []
  }
 ],
 "metadata": {
  "kernelspec": {
   "display_name": "Python 3 (ipykernel)",
   "language": "python",
   "name": "python3"
  },
  "language_info": {
   "codemirror_mode": {
    "name": "ipython",
    "version": 3
   },
   "file_extension": ".py",
   "mimetype": "text/x-python",
   "name": "python",
   "nbconvert_exporter": "python",
   "pygments_lexer": "ipython3",
   "version": "3.9.7"
  }
 },
 "nbformat": 4,
 "nbformat_minor": 5
}
