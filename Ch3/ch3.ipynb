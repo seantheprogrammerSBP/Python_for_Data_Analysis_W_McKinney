{
 "cells": [
  {
   "cell_type": "markdown",
   "id": "a3000759-d80f-4f33-a035-7df23f309877",
   "metadata": {},
   "source": [
    "# Chapter 3"
   ]
  },
  {
   "cell_type": "markdown",
   "id": "ca97c7fb-0ae6-4a2b-9f13-d9e6b153068e",
   "metadata": {},
   "source": [
    "## Tuple"
   ]
  },
  {
   "cell_type": "code",
   "execution_count": 1,
   "id": "6414c121-285e-416b-ac02-3ec2a997cb48",
   "metadata": {},
   "outputs": [],
   "source": [
    "tup = (4, 5, 6)"
   ]
  },
  {
   "cell_type": "code",
   "execution_count": 2,
   "id": "b7e5172a-2a3e-4422-a970-30255541c3e6",
   "metadata": {},
   "outputs": [
    {
     "data": {
      "text/plain": [
       "(4, 5, 6)"
      ]
     },
     "execution_count": 2,
     "metadata": {},
     "output_type": "execute_result"
    }
   ],
   "source": [
    "tup"
   ]
  },
  {
   "cell_type": "code",
   "execution_count": 3,
   "id": "9f6d60a3-ae34-4a33-b33d-c4336953fb9e",
   "metadata": {},
   "outputs": [],
   "source": [
    "tup2 = 5, 6, 7"
   ]
  },
  {
   "cell_type": "code",
   "execution_count": 4,
   "id": "c9257bdb-7653-4f9e-ab9d-c69d5ae66967",
   "metadata": {},
   "outputs": [
    {
     "data": {
      "text/plain": [
       "(5, 6, 7)"
      ]
     },
     "execution_count": 4,
     "metadata": {},
     "output_type": "execute_result"
    }
   ],
   "source": [
    "tup2"
   ]
  },
  {
   "cell_type": "code",
   "execution_count": 5,
   "id": "977b8a25-9db5-4ec4-9dc0-455c2d4139b4",
   "metadata": {},
   "outputs": [
    {
     "data": {
      "text/plain": [
       "(4, 0, 2)"
      ]
     },
     "execution_count": 5,
     "metadata": {},
     "output_type": "execute_result"
    }
   ],
   "source": [
    "tuple([4, 0, 2])"
   ]
  },
  {
   "cell_type": "code",
   "execution_count": 6,
   "id": "70e550a6-48f9-4bd8-9955-92ae058b0be0",
   "metadata": {},
   "outputs": [],
   "source": [
    "tup = tuple('string')"
   ]
  },
  {
   "cell_type": "code",
   "execution_count": 7,
   "id": "1151380f-0037-4a7a-9f0a-db582625ea34",
   "metadata": {},
   "outputs": [
    {
     "data": {
      "text/plain": [
       "('s', 't', 'r', 'i', 'n', 'g')"
      ]
     },
     "execution_count": 7,
     "metadata": {},
     "output_type": "execute_result"
    }
   ],
   "source": [
    "tup"
   ]
  },
  {
   "cell_type": "code",
   "execution_count": 8,
   "id": "f5d1d9b6-9471-4e1a-a3b0-17dd93e1d893",
   "metadata": {},
   "outputs": [
    {
     "data": {
      "text/plain": [
       "'s'"
      ]
     },
     "execution_count": 8,
     "metadata": {},
     "output_type": "execute_result"
    }
   ],
   "source": [
    "tup[0]"
   ]
  },
  {
   "cell_type": "code",
   "execution_count": 9,
   "id": "85628078-b891-4421-b5cd-23fe46c1b019",
   "metadata": {},
   "outputs": [],
   "source": [
    "nested_tup = (4, 5, 6), (7, 8)"
   ]
  },
  {
   "cell_type": "code",
   "execution_count": 10,
   "id": "3c5d21a3-a966-4a34-914d-df563422ffb3",
   "metadata": {},
   "outputs": [
    {
     "data": {
      "text/plain": [
       "((4, 5, 6), (7, 8))"
      ]
     },
     "execution_count": 10,
     "metadata": {},
     "output_type": "execute_result"
    }
   ],
   "source": [
    "nested_tup"
   ]
  },
  {
   "cell_type": "code",
   "execution_count": 11,
   "id": "281c3812-35e9-4af4-ae62-029e9946bc77",
   "metadata": {},
   "outputs": [
    {
     "data": {
      "text/plain": [
       "(4, 5, 6)"
      ]
     },
     "execution_count": 11,
     "metadata": {},
     "output_type": "execute_result"
    }
   ],
   "source": [
    "nested_tup[0]"
   ]
  },
  {
   "cell_type": "code",
   "execution_count": 12,
   "id": "813abc0f-b554-4e67-8849-517ba0d9d457",
   "metadata": {},
   "outputs": [
    {
     "data": {
      "text/plain": [
       "(7, 8)"
      ]
     },
     "execution_count": 12,
     "metadata": {},
     "output_type": "execute_result"
    }
   ],
   "source": [
    "nested_tup[1]"
   ]
  },
  {
   "cell_type": "code",
   "execution_count": 13,
   "id": "2e906bba-449c-402e-92f5-d1ab248efb00",
   "metadata": {},
   "outputs": [],
   "source": [
    "# tup[1] = False  ## cannot do-- immutable"
   ]
  },
  {
   "cell_type": "code",
   "execution_count": 14,
   "id": "659bd604-4c1c-46d2-96f7-9b740eadf220",
   "metadata": {},
   "outputs": [],
   "source": [
    "tup3 = (1, 2, [3, 4], 5)"
   ]
  },
  {
   "cell_type": "code",
   "execution_count": 15,
   "id": "b670d094-4dc5-4b86-9a7d-056dbbe66ad0",
   "metadata": {},
   "outputs": [],
   "source": [
    "tup3[2].append(6)"
   ]
  },
  {
   "cell_type": "code",
   "execution_count": 16,
   "id": "26be4b2f-bd47-4a91-a91b-7e5401d8ee38",
   "metadata": {},
   "outputs": [
    {
     "data": {
      "text/plain": [
       "(1, 2, [3, 4, 6], 5)"
      ]
     },
     "execution_count": 16,
     "metadata": {},
     "output_type": "execute_result"
    }
   ],
   "source": [
    "tup3"
   ]
  },
  {
   "cell_type": "code",
   "execution_count": 17,
   "id": "5aa0c460-fb2d-4ae4-8549-0f692ba8eb31",
   "metadata": {},
   "outputs": [
    {
     "data": {
      "text/plain": [
       "(4, None, 'foo', 6, 0, 'bar')"
      ]
     },
     "execution_count": 17,
     "metadata": {},
     "output_type": "execute_result"
    }
   ],
   "source": [
    "(4, None, 'foo') + (6, 0) + ('bar',)"
   ]
  },
  {
   "cell_type": "code",
   "execution_count": 18,
   "id": "105932d2-4b7b-4a77-8664-339fbd716b79",
   "metadata": {},
   "outputs": [
    {
     "data": {
      "text/plain": [
       "('foo', 'bar', 'foo', 'bar', 'foo', 'bar', 'foo', 'bar')"
      ]
     },
     "execution_count": 18,
     "metadata": {},
     "output_type": "execute_result"
    }
   ],
   "source": [
    "('foo', 'bar') * 4"
   ]
  },
  {
   "cell_type": "markdown",
   "id": "6da30600-ea4f-4232-b9d6-d967467f1081",
   "metadata": {},
   "source": [
    "### Unpacking Tuples"
   ]
  },
  {
   "cell_type": "code",
   "execution_count": 19,
   "id": "bd2397a8-bcff-44d5-a8f0-2de35c74bc87",
   "metadata": {},
   "outputs": [],
   "source": [
    "tup = (4, 5, 6)"
   ]
  },
  {
   "cell_type": "code",
   "execution_count": 20,
   "id": "8f5f185d-50c2-4024-9a99-aaaa9ed314a9",
   "metadata": {},
   "outputs": [],
   "source": [
    "a, b, c = tup"
   ]
  },
  {
   "cell_type": "code",
   "execution_count": 21,
   "id": "c3a635b2-fb06-4a80-b65f-a826ed2d7960",
   "metadata": {},
   "outputs": [
    {
     "data": {
      "text/plain": [
       "4"
      ]
     },
     "execution_count": 21,
     "metadata": {},
     "output_type": "execute_result"
    }
   ],
   "source": [
    "a"
   ]
  },
  {
   "cell_type": "code",
   "execution_count": 22,
   "id": "566ad2cf-e097-44fb-96e3-4ded5d8599a8",
   "metadata": {},
   "outputs": [
    {
     "data": {
      "text/plain": [
       "5"
      ]
     },
     "execution_count": 22,
     "metadata": {},
     "output_type": "execute_result"
    }
   ],
   "source": [
    "b"
   ]
  },
  {
   "cell_type": "code",
   "execution_count": 23,
   "id": "62f19bc8-af3d-4e04-bb1a-d102d398c57d",
   "metadata": {},
   "outputs": [
    {
     "data": {
      "text/plain": [
       "6"
      ]
     },
     "execution_count": 23,
     "metadata": {},
     "output_type": "execute_result"
    }
   ],
   "source": [
    "c"
   ]
  },
  {
   "cell_type": "code",
   "execution_count": 24,
   "id": "4ddb4360-30ff-4365-92b7-3846db73527e",
   "metadata": {},
   "outputs": [],
   "source": [
    "tup = 4, 5, (6, 7)\n",
    "\n",
    "a, b, (c, d) = tup"
   ]
  },
  {
   "cell_type": "code",
   "execution_count": 25,
   "id": "eb1534aa-9920-4d64-ae1d-92a2d11898cc",
   "metadata": {},
   "outputs": [
    {
     "data": {
      "text/plain": [
       "7"
      ]
     },
     "execution_count": 25,
     "metadata": {},
     "output_type": "execute_result"
    }
   ],
   "source": [
    "d"
   ]
  },
  {
   "cell_type": "code",
   "execution_count": 26,
   "id": "bbea9309-e750-48b2-b4ad-cbc4da68f429",
   "metadata": {},
   "outputs": [],
   "source": [
    "# Swapping\n",
    "a, b = 1, 2"
   ]
  },
  {
   "cell_type": "code",
   "execution_count": 27,
   "id": "998f04e2-9983-484c-b565-d8d4ee1deeab",
   "metadata": {},
   "outputs": [
    {
     "data": {
      "text/plain": [
       "1"
      ]
     },
     "execution_count": 27,
     "metadata": {},
     "output_type": "execute_result"
    }
   ],
   "source": [
    "a"
   ]
  },
  {
   "cell_type": "code",
   "execution_count": 28,
   "id": "aed7e06e-b64b-4457-a5a0-235020dc93c6",
   "metadata": {},
   "outputs": [
    {
     "data": {
      "text/plain": [
       "2"
      ]
     },
     "execution_count": 28,
     "metadata": {},
     "output_type": "execute_result"
    }
   ],
   "source": [
    "b"
   ]
  },
  {
   "cell_type": "code",
   "execution_count": 29,
   "id": "8bf9693c-9059-41f2-8051-cbbc0db91498",
   "metadata": {},
   "outputs": [],
   "source": [
    "b, a = a, b"
   ]
  },
  {
   "cell_type": "code",
   "execution_count": 30,
   "id": "7239e6ff-e559-4302-99cd-8a4393b4e883",
   "metadata": {},
   "outputs": [
    {
     "name": "stdout",
     "output_type": "stream",
     "text": [
      "a 2, b 1\n"
     ]
    }
   ],
   "source": [
    "print(f\"a {a}, b {b}\")"
   ]
  },
  {
   "cell_type": "code",
   "execution_count": 31,
   "id": "dbe68b76-812c-4bf6-a775-1f5021ecd584",
   "metadata": {},
   "outputs": [
    {
     "name": "stdout",
     "output_type": "stream",
     "text": [
      "a=1, b=2, c=3\n",
      "a=4, b=5, c=6\n",
      "a=7, b=8, c=9\n"
     ]
    }
   ],
   "source": [
    "seq = [(1, 2, 3), (4, 5, 6), (7, 8, 9)]\n",
    "\n",
    "for a, b, c in seq:\n",
    "    print(f'a={a}, b={b}, c={c}')"
   ]
  },
  {
   "cell_type": "code",
   "execution_count": 32,
   "id": "b440acbf-fcf2-4251-808b-286e19fd2f94",
   "metadata": {},
   "outputs": [],
   "source": [
    "values = 1, 2, 3, 4, 5"
   ]
  },
  {
   "cell_type": "code",
   "execution_count": 33,
   "id": "723b9404-ca6f-48c7-bf99-4702c63ce499",
   "metadata": {},
   "outputs": [],
   "source": [
    "a, b, *rest = values"
   ]
  },
  {
   "cell_type": "code",
   "execution_count": 34,
   "id": "a45d50f9-edb0-4457-a39c-880f58da8601",
   "metadata": {},
   "outputs": [
    {
     "data": {
      "text/plain": [
       "1"
      ]
     },
     "execution_count": 34,
     "metadata": {},
     "output_type": "execute_result"
    }
   ],
   "source": [
    "a"
   ]
  },
  {
   "cell_type": "code",
   "execution_count": 35,
   "id": "9c7aa7ef-6faa-490b-8e4b-dc894b445501",
   "metadata": {},
   "outputs": [
    {
     "data": {
      "text/plain": [
       "2"
      ]
     },
     "execution_count": 35,
     "metadata": {},
     "output_type": "execute_result"
    }
   ],
   "source": [
    "b"
   ]
  },
  {
   "cell_type": "code",
   "execution_count": 36,
   "id": "54e6bebe-8a3d-4ed4-99a4-f47c2d5b88fd",
   "metadata": {},
   "outputs": [
    {
     "data": {
      "text/plain": [
       "[3, 4, 5]"
      ]
     },
     "execution_count": 36,
     "metadata": {},
     "output_type": "execute_result"
    }
   ],
   "source": [
    "rest"
   ]
  },
  {
   "cell_type": "code",
   "execution_count": 37,
   "id": "5995241b-32e9-4cd5-9276-73a86ac3859f",
   "metadata": {},
   "outputs": [],
   "source": [
    "a = (1, 2, 2, 2, 3, 4, 2)"
   ]
  },
  {
   "cell_type": "code",
   "execution_count": 38,
   "id": "1cb5df06-4fb2-4745-a3bb-f4c15d94b5ae",
   "metadata": {},
   "outputs": [
    {
     "data": {
      "text/plain": [
       "4"
      ]
     },
     "execution_count": 38,
     "metadata": {},
     "output_type": "execute_result"
    }
   ],
   "source": [
    "a.count(2)"
   ]
  },
  {
   "cell_type": "markdown",
   "id": "9c285e92-4d0f-4b1d-9cab-67a9c96f261e",
   "metadata": {},
   "source": [
    "## List"
   ]
  },
  {
   "cell_type": "code",
   "execution_count": 39,
   "id": "b3706d4a-b1e0-431f-96c7-ad4b143e44e8",
   "metadata": {},
   "outputs": [],
   "source": [
    "a_list = [2, 3, 7, None]"
   ]
  },
  {
   "cell_type": "code",
   "execution_count": 40,
   "id": "54a21d3c-c7a7-4318-b0a7-dbab7e1d9fd9",
   "metadata": {},
   "outputs": [],
   "source": [
    "tup = (\"foo\", \"bar\", \"baz\")"
   ]
  },
  {
   "cell_type": "code",
   "execution_count": 41,
   "id": "b9eb2d18-a7ca-459e-a0f9-5a779ec51140",
   "metadata": {},
   "outputs": [],
   "source": [
    "b_list = list(tup)"
   ]
  },
  {
   "cell_type": "code",
   "execution_count": 42,
   "id": "b392ad85-44ec-4df7-8c91-8b35a1c3924a",
   "metadata": {},
   "outputs": [
    {
     "data": {
      "text/plain": [
       "['foo', 'bar', 'baz']"
      ]
     },
     "execution_count": 42,
     "metadata": {},
     "output_type": "execute_result"
    }
   ],
   "source": [
    "b_list"
   ]
  },
  {
   "cell_type": "code",
   "execution_count": 43,
   "id": "1729797f-08b4-415b-8957-29df3394bf3c",
   "metadata": {},
   "outputs": [
    {
     "data": {
      "text/plain": [
       "'bar'"
      ]
     },
     "execution_count": 43,
     "metadata": {},
     "output_type": "execute_result"
    }
   ],
   "source": [
    "b_list[1]"
   ]
  },
  {
   "cell_type": "code",
   "execution_count": 44,
   "id": "ab333517-bef6-4314-9cae-e67d3a800d02",
   "metadata": {},
   "outputs": [],
   "source": [
    "b_list[1] = 'peekaboo'"
   ]
  },
  {
   "cell_type": "code",
   "execution_count": 45,
   "id": "5a53b3c4-611f-4d84-a4ad-0448d1129265",
   "metadata": {},
   "outputs": [
    {
     "data": {
      "text/plain": [
       "['foo', 'peekaboo', 'baz']"
      ]
     },
     "execution_count": 45,
     "metadata": {},
     "output_type": "execute_result"
    }
   ],
   "source": [
    "b_list"
   ]
  },
  {
   "cell_type": "code",
   "execution_count": 46,
   "id": "af2beac9-bea3-4b79-8584-9ef06c2aff59",
   "metadata": {},
   "outputs": [],
   "source": [
    "gen = range(10)"
   ]
  },
  {
   "cell_type": "code",
   "execution_count": 47,
   "id": "fd8a3a59-631a-4cef-958e-4ee4ef15f599",
   "metadata": {},
   "outputs": [
    {
     "data": {
      "text/plain": [
       "range(0, 10)"
      ]
     },
     "execution_count": 47,
     "metadata": {},
     "output_type": "execute_result"
    }
   ],
   "source": [
    "gen"
   ]
  },
  {
   "cell_type": "code",
   "execution_count": 48,
   "id": "02e77029-4cf7-4718-aaff-06af941d8345",
   "metadata": {},
   "outputs": [
    {
     "data": {
      "text/plain": [
       "[0, 1, 2, 3, 4, 5, 6, 7, 8, 9]"
      ]
     },
     "execution_count": 48,
     "metadata": {},
     "output_type": "execute_result"
    }
   ],
   "source": [
    "list(gen)"
   ]
  },
  {
   "cell_type": "code",
   "execution_count": 49,
   "id": "c1d8cd8f-8f1a-473f-bd9b-2a956ba97fa8",
   "metadata": {},
   "outputs": [],
   "source": [
    "b_list.append('dwarf')"
   ]
  },
  {
   "cell_type": "code",
   "execution_count": 50,
   "id": "af263db5-8bc4-4b13-8c42-d24497a58345",
   "metadata": {},
   "outputs": [
    {
     "data": {
      "text/plain": [
       "['foo', 'peekaboo', 'baz', 'dwarf']"
      ]
     },
     "execution_count": 50,
     "metadata": {},
     "output_type": "execute_result"
    }
   ],
   "source": [
    "b_list"
   ]
  },
  {
   "cell_type": "code",
   "execution_count": 51,
   "id": "3b867892-46af-4518-b2b6-7b05b1057daa",
   "metadata": {},
   "outputs": [],
   "source": [
    "b_list.insert(1, 'red')"
   ]
  },
  {
   "cell_type": "code",
   "execution_count": 52,
   "id": "9f7d4b78-365f-4c51-868c-58eb882bcc5c",
   "metadata": {},
   "outputs": [
    {
     "data": {
      "text/plain": [
       "['foo', 'red', 'peekaboo', 'baz', 'dwarf']"
      ]
     },
     "execution_count": 52,
     "metadata": {},
     "output_type": "execute_result"
    }
   ],
   "source": [
    "b_list"
   ]
  },
  {
   "cell_type": "code",
   "execution_count": 53,
   "id": "d10a34bd-3bbb-4cd4-aba8-1123b5cdbfc7",
   "metadata": {},
   "outputs": [
    {
     "data": {
      "text/plain": [
       "'peekaboo'"
      ]
     },
     "execution_count": 53,
     "metadata": {},
     "output_type": "execute_result"
    }
   ],
   "source": [
    "b_list.pop(2)"
   ]
  },
  {
   "cell_type": "code",
   "execution_count": 54,
   "id": "3fe3400a-7cb9-44e0-8a80-2c805d2b9dde",
   "metadata": {},
   "outputs": [
    {
     "data": {
      "text/plain": [
       "['foo', 'red', 'baz', 'dwarf']"
      ]
     },
     "execution_count": 54,
     "metadata": {},
     "output_type": "execute_result"
    }
   ],
   "source": [
    "b_list"
   ]
  },
  {
   "cell_type": "code",
   "execution_count": 55,
   "id": "e02c9623-0ccb-43c3-893d-457558a5a9ca",
   "metadata": {},
   "outputs": [],
   "source": [
    "b_list.append('foo')"
   ]
  },
  {
   "cell_type": "code",
   "execution_count": 56,
   "id": "f9fdb6a5-687f-4fdf-903c-22f1de99f59b",
   "metadata": {},
   "outputs": [
    {
     "data": {
      "text/plain": [
       "['foo', 'red', 'baz', 'dwarf', 'foo']"
      ]
     },
     "execution_count": 56,
     "metadata": {},
     "output_type": "execute_result"
    }
   ],
   "source": [
    "b_list"
   ]
  },
  {
   "cell_type": "code",
   "execution_count": 57,
   "id": "db3f5e45-e895-4830-a00d-64f3eb6492df",
   "metadata": {},
   "outputs": [],
   "source": [
    "b_list.remove('foo')"
   ]
  },
  {
   "cell_type": "code",
   "execution_count": 58,
   "id": "443599a4-5478-436d-849a-54c7f61a546d",
   "metadata": {},
   "outputs": [
    {
     "data": {
      "text/plain": [
       "['red', 'baz', 'dwarf', 'foo']"
      ]
     },
     "execution_count": 58,
     "metadata": {},
     "output_type": "execute_result"
    }
   ],
   "source": [
    "b_list"
   ]
  },
  {
   "cell_type": "code",
   "execution_count": 59,
   "id": "f474b6ac-715f-4b1a-b8c0-c5bfc6bbf6ea",
   "metadata": {},
   "outputs": [
    {
     "data": {
      "text/plain": [
       "True"
      ]
     },
     "execution_count": 59,
     "metadata": {},
     "output_type": "execute_result"
    }
   ],
   "source": [
    "\"dwarf\" in b_list"
   ]
  },
  {
   "cell_type": "code",
   "execution_count": 60,
   "id": "f8ff0295-1f2b-4e40-a5a3-e1537b49ae34",
   "metadata": {},
   "outputs": [
    {
     "data": {
      "text/plain": [
       "False"
      ]
     },
     "execution_count": 60,
     "metadata": {},
     "output_type": "execute_result"
    }
   ],
   "source": [
    "\"dwarf\" not in b_list"
   ]
  },
  {
   "cell_type": "code",
   "execution_count": 61,
   "id": "7c3fa0c2-3796-44c3-908f-10c921bc7189",
   "metadata": {},
   "outputs": [
    {
     "data": {
      "text/plain": [
       "[4, None, 'foo', 7, 8, (3, 2)]"
      ]
     },
     "execution_count": 61,
     "metadata": {},
     "output_type": "execute_result"
    }
   ],
   "source": [
    "[4, None, \"foo\"] + [7, 8, (3, 2)]"
   ]
  },
  {
   "cell_type": "code",
   "execution_count": 62,
   "id": "eb4bd7f2-2cbf-4d0c-b078-1b5a932c75db",
   "metadata": {},
   "outputs": [],
   "source": [
    "x = [4, None, \"foo\"]"
   ]
  },
  {
   "cell_type": "code",
   "execution_count": 63,
   "id": "12e7def8-9088-4ee6-ad1d-15179070c312",
   "metadata": {},
   "outputs": [],
   "source": [
    "x.extend([7, 8, (2, 3)])"
   ]
  },
  {
   "cell_type": "code",
   "execution_count": 64,
   "id": "26b844b5-7c10-4880-b1ef-b4ce5107083b",
   "metadata": {},
   "outputs": [
    {
     "data": {
      "text/plain": [
       "[4, None, 'foo', 7, 8, (2, 3)]"
      ]
     },
     "execution_count": 64,
     "metadata": {},
     "output_type": "execute_result"
    }
   ],
   "source": [
    "x"
   ]
  },
  {
   "cell_type": "code",
   "execution_count": 65,
   "id": "da97e6e7-ba51-4d7f-a29f-a641e79b3652",
   "metadata": {},
   "outputs": [],
   "source": [
    "a = [7, 2, 5, 1, 3]"
   ]
  },
  {
   "cell_type": "code",
   "execution_count": 66,
   "id": "03d93a24-8e82-4f17-b047-af8539af4425",
   "metadata": {},
   "outputs": [],
   "source": [
    "a.sort()"
   ]
  },
  {
   "cell_type": "code",
   "execution_count": 67,
   "id": "00a3e5ec-ec15-4c16-a3ba-f9be6b1c79f8",
   "metadata": {},
   "outputs": [
    {
     "data": {
      "text/plain": [
       "[1, 2, 3, 5, 7]"
      ]
     },
     "execution_count": 67,
     "metadata": {},
     "output_type": "execute_result"
    }
   ],
   "source": [
    "a"
   ]
  },
  {
   "cell_type": "code",
   "execution_count": 68,
   "id": "e787dea2-7272-41f2-8c79-427de827feed",
   "metadata": {},
   "outputs": [],
   "source": [
    "b = [\"saw\", \"small\", \"He\", \"foxes\", \"six\"]"
   ]
  },
  {
   "cell_type": "code",
   "execution_count": 69,
   "id": "33176b97-1654-4dee-91f4-cc38c2e3028a",
   "metadata": {},
   "outputs": [],
   "source": [
    "b.sort(key=len)"
   ]
  },
  {
   "cell_type": "code",
   "execution_count": 70,
   "id": "3ea6f4a8-26fa-449c-98c8-4a3f6516a5e2",
   "metadata": {},
   "outputs": [
    {
     "data": {
      "text/plain": [
       "['He', 'saw', 'six', 'small', 'foxes']"
      ]
     },
     "execution_count": 70,
     "metadata": {},
     "output_type": "execute_result"
    }
   ],
   "source": [
    "b"
   ]
  },
  {
   "cell_type": "code",
   "execution_count": 71,
   "id": "da15b502-de24-4611-96a5-f77f41f1143b",
   "metadata": {},
   "outputs": [],
   "source": [
    "seq = [7, 2, 3, 7, 5, 6, 0, 1]"
   ]
  },
  {
   "cell_type": "code",
   "execution_count": 72,
   "id": "fb8e94f6-d86d-45cb-b579-887e238a3e0d",
   "metadata": {},
   "outputs": [
    {
     "data": {
      "text/plain": [
       "[2, 3, 7]"
      ]
     },
     "execution_count": 72,
     "metadata": {},
     "output_type": "execute_result"
    }
   ],
   "source": [
    "seq[1:4]"
   ]
  },
  {
   "cell_type": "code",
   "execution_count": 73,
   "id": "214baae5-82ae-4c8c-bd31-3103064a6c97",
   "metadata": {},
   "outputs": [],
   "source": [
    "seq[3:5] = [6,3]"
   ]
  },
  {
   "cell_type": "code",
   "execution_count": 74,
   "id": "97c9d2ba-6fbd-4804-8a1a-7453b614e9d4",
   "metadata": {},
   "outputs": [
    {
     "data": {
      "text/plain": [
       "[7, 2, 3, 6, 3, 6, 0, 1]"
      ]
     },
     "execution_count": 74,
     "metadata": {},
     "output_type": "execute_result"
    }
   ],
   "source": [
    "seq"
   ]
  },
  {
   "cell_type": "code",
   "execution_count": 75,
   "id": "ef0b114b-cbd2-41ea-9264-61074870ef16",
   "metadata": {},
   "outputs": [
    {
     "data": {
      "text/plain": [
       "[7, 2, 3, 6, 3]"
      ]
     },
     "execution_count": 75,
     "metadata": {},
     "output_type": "execute_result"
    }
   ],
   "source": [
    "seq[:5]"
   ]
  },
  {
   "cell_type": "code",
   "execution_count": 76,
   "id": "da95a307-1f1c-4598-b41f-eaa35cb05879",
   "metadata": {},
   "outputs": [
    {
     "data": {
      "text/plain": [
       "[6, 3, 6, 0, 1]"
      ]
     },
     "execution_count": 76,
     "metadata": {},
     "output_type": "execute_result"
    }
   ],
   "source": [
    "seq[3:]"
   ]
  },
  {
   "cell_type": "code",
   "execution_count": 77,
   "id": "5aa434bc-4286-42f8-a69a-6ba39caf8983",
   "metadata": {},
   "outputs": [
    {
     "data": {
      "text/plain": [
       "[3, 6, 0, 1]"
      ]
     },
     "execution_count": 77,
     "metadata": {},
     "output_type": "execute_result"
    }
   ],
   "source": [
    "seq[-4:]"
   ]
  },
  {
   "cell_type": "code",
   "execution_count": 78,
   "id": "745c123e-2b2a-43ed-a4d9-70ba89e9640b",
   "metadata": {},
   "outputs": [
    {
     "data": {
      "text/plain": [
       "[3, 6, 3, 6]"
      ]
     },
     "execution_count": 78,
     "metadata": {},
     "output_type": "execute_result"
    }
   ],
   "source": [
    "seq[-6:-2]"
   ]
  },
  {
   "cell_type": "code",
   "execution_count": 79,
   "id": "37c8ee72-eb61-4205-9025-1717797bed13",
   "metadata": {},
   "outputs": [
    {
     "data": {
      "text/plain": [
       "[7, 3, 3, 0]"
      ]
     },
     "execution_count": 79,
     "metadata": {},
     "output_type": "execute_result"
    }
   ],
   "source": [
    "seq[::2]"
   ]
  },
  {
   "cell_type": "code",
   "execution_count": 80,
   "id": "40d6bf42-cbff-4a07-b464-536af556037e",
   "metadata": {},
   "outputs": [
    {
     "data": {
      "text/plain": [
       "[1, 0, 6, 3, 6, 3, 2, 7]"
      ]
     },
     "execution_count": 80,
     "metadata": {},
     "output_type": "execute_result"
    }
   ],
   "source": [
    "# reverse the list \n",
    "seq[::-1]"
   ]
  },
  {
   "cell_type": "markdown",
   "id": "c59fe86a-2d5c-45b4-a48f-a9b6266cc5ab",
   "metadata": {},
   "source": [
    "## Dictionary"
   ]
  },
  {
   "cell_type": "code",
   "execution_count": 81,
   "id": "a514debe-f537-40f8-8c87-a4ae2be6e600",
   "metadata": {},
   "outputs": [],
   "source": [
    "empty_dict = {}"
   ]
  },
  {
   "cell_type": "code",
   "execution_count": 82,
   "id": "aea2ce5e-4fc8-445e-8d6e-82945ab053d2",
   "metadata": {},
   "outputs": [],
   "source": [
    "d1 = {'a': 'some value', 'b': [1, 2, 3, 4]}"
   ]
  },
  {
   "cell_type": "code",
   "execution_count": 83,
   "id": "3322ebe3-1d26-4749-9f57-82ee47787600",
   "metadata": {},
   "outputs": [
    {
     "data": {
      "text/plain": [
       "{'a': 'some value', 'b': [1, 2, 3, 4]}"
      ]
     },
     "execution_count": 83,
     "metadata": {},
     "output_type": "execute_result"
    }
   ],
   "source": [
    "d1"
   ]
  },
  {
   "cell_type": "code",
   "execution_count": 84,
   "id": "fc5f02cf-f532-4aec-8c9b-f5ed56011ecf",
   "metadata": {},
   "outputs": [],
   "source": [
    "d1[7] = \"an integer\""
   ]
  },
  {
   "cell_type": "code",
   "execution_count": 85,
   "id": "02ca8941-6911-4d21-904d-11931dd4e110",
   "metadata": {},
   "outputs": [
    {
     "data": {
      "text/plain": [
       "{'a': 'some value', 'b': [1, 2, 3, 4], 7: 'an integer'}"
      ]
     },
     "execution_count": 85,
     "metadata": {},
     "output_type": "execute_result"
    }
   ],
   "source": [
    "d1"
   ]
  },
  {
   "cell_type": "code",
   "execution_count": 86,
   "id": "1c1dd811-e8bb-42ee-b138-237a5cc76700",
   "metadata": {},
   "outputs": [
    {
     "data": {
      "text/plain": [
       "[1, 2, 3, 4]"
      ]
     },
     "execution_count": 86,
     "metadata": {},
     "output_type": "execute_result"
    }
   ],
   "source": [
    "d1[\"b\"]"
   ]
  },
  {
   "cell_type": "code",
   "execution_count": 87,
   "id": "ad94b0fe-49c8-4308-aa50-a6393fde0283",
   "metadata": {},
   "outputs": [
    {
     "data": {
      "text/plain": [
       "True"
      ]
     },
     "execution_count": 87,
     "metadata": {},
     "output_type": "execute_result"
    }
   ],
   "source": [
    "\"b\" in d1"
   ]
  },
  {
   "cell_type": "code",
   "execution_count": 88,
   "id": "a112fc52-b37e-40c8-9e3a-0f3041081305",
   "metadata": {},
   "outputs": [
    {
     "data": {
      "text/plain": [
       "False"
      ]
     },
     "execution_count": 88,
     "metadata": {},
     "output_type": "execute_result"
    }
   ],
   "source": [
    "\"c\" in d1"
   ]
  },
  {
   "cell_type": "code",
   "execution_count": 89,
   "id": "745b4a31-d193-4f9e-ab1e-2a5a5caf1213",
   "metadata": {},
   "outputs": [],
   "source": [
    "d1[5] = \"some value\""
   ]
  },
  {
   "cell_type": "code",
   "execution_count": 90,
   "id": "c3cd70ce-79bd-41da-93e1-63927a1a0287",
   "metadata": {},
   "outputs": [
    {
     "data": {
      "text/plain": [
       "{'a': 'some value', 'b': [1, 2, 3, 4], 7: 'an integer', 5: 'some value'}"
      ]
     },
     "execution_count": 90,
     "metadata": {},
     "output_type": "execute_result"
    }
   ],
   "source": [
    "d1"
   ]
  },
  {
   "cell_type": "code",
   "execution_count": 91,
   "id": "76fdaaa9-b81e-4276-b7c6-589fe0f4f855",
   "metadata": {},
   "outputs": [],
   "source": [
    "d1[\"dummy\"] = \"another value\""
   ]
  },
  {
   "cell_type": "code",
   "execution_count": 92,
   "id": "e289b8ea-e699-4d64-a97a-125b43a3b803",
   "metadata": {},
   "outputs": [
    {
     "data": {
      "text/plain": [
       "{'a': 'some value',\n",
       " 'b': [1, 2, 3, 4],\n",
       " 7: 'an integer',\n",
       " 5: 'some value',\n",
       " 'dummy': 'another value'}"
      ]
     },
     "execution_count": 92,
     "metadata": {},
     "output_type": "execute_result"
    }
   ],
   "source": [
    "d1"
   ]
  },
  {
   "cell_type": "code",
   "execution_count": 93,
   "id": "d9af74ac-28c2-4e49-b754-65e1274693c6",
   "metadata": {},
   "outputs": [],
   "source": [
    "del d1[5]"
   ]
  },
  {
   "cell_type": "code",
   "execution_count": 94,
   "id": "d5139136-272f-442b-9622-bcb811f1a890",
   "metadata": {},
   "outputs": [
    {
     "data": {
      "text/plain": [
       "{'a': 'some value',\n",
       " 'b': [1, 2, 3, 4],\n",
       " 7: 'an integer',\n",
       " 'dummy': 'another value'}"
      ]
     },
     "execution_count": 94,
     "metadata": {},
     "output_type": "execute_result"
    }
   ],
   "source": [
    "d1"
   ]
  },
  {
   "cell_type": "code",
   "execution_count": 95,
   "id": "c56d939e-2a5d-463b-8a72-74887d0665b8",
   "metadata": {},
   "outputs": [],
   "source": [
    "ret = d1.pop(\"dummy\")"
   ]
  },
  {
   "cell_type": "code",
   "execution_count": 96,
   "id": "10deb768-0790-4f10-9673-24dd13f00f41",
   "metadata": {},
   "outputs": [
    {
     "data": {
      "text/plain": [
       "'another value'"
      ]
     },
     "execution_count": 96,
     "metadata": {},
     "output_type": "execute_result"
    }
   ],
   "source": [
    "ret"
   ]
  },
  {
   "cell_type": "code",
   "execution_count": 97,
   "id": "d0a777b8-a59b-40f9-ba53-a038e7dadc4b",
   "metadata": {},
   "outputs": [
    {
     "data": {
      "text/plain": [
       "{'a': 'some value', 'b': [1, 2, 3, 4], 7: 'an integer'}"
      ]
     },
     "execution_count": 97,
     "metadata": {},
     "output_type": "execute_result"
    }
   ],
   "source": [
    "d1"
   ]
  },
  {
   "cell_type": "code",
   "execution_count": 98,
   "id": "e12c521e-8e94-48b1-94b0-175edfe70205",
   "metadata": {},
   "outputs": [
    {
     "data": {
      "text/plain": [
       "['a', 'b', 7]"
      ]
     },
     "execution_count": 98,
     "metadata": {},
     "output_type": "execute_result"
    }
   ],
   "source": [
    "list(d1.keys())"
   ]
  },
  {
   "cell_type": "code",
   "execution_count": 99,
   "id": "534c78a6-a317-437c-a16a-b1563b894450",
   "metadata": {},
   "outputs": [
    {
     "data": {
      "text/plain": [
       "['some value', [1, 2, 3, 4], 'an integer']"
      ]
     },
     "execution_count": 99,
     "metadata": {},
     "output_type": "execute_result"
    }
   ],
   "source": [
    "list(d1.values())"
   ]
  },
  {
   "cell_type": "code",
   "execution_count": 100,
   "id": "e885fa9c-cbd4-4125-9f16-11bdf9f8336f",
   "metadata": {},
   "outputs": [
    {
     "data": {
      "text/plain": [
       "[('a', 'some value'), ('b', [1, 2, 3, 4]), (7, 'an integer')]"
      ]
     },
     "execution_count": 100,
     "metadata": {},
     "output_type": "execute_result"
    }
   ],
   "source": [
    "list(d1.items())"
   ]
  },
  {
   "cell_type": "code",
   "execution_count": 101,
   "id": "c68098a6-9d77-4515-8a03-9504be44ffea",
   "metadata": {},
   "outputs": [],
   "source": [
    "d1.update({\"b\": \"foo\", \"c\": 12})"
   ]
  },
  {
   "cell_type": "code",
   "execution_count": 102,
   "id": "96e6fef9-4225-408f-a5ad-30d1844a3c18",
   "metadata": {},
   "outputs": [
    {
     "data": {
      "text/plain": [
       "{'a': 'some value', 'b': 'foo', 7: 'an integer', 'c': 12}"
      ]
     },
     "execution_count": 102,
     "metadata": {},
     "output_type": "execute_result"
    }
   ],
   "source": [
    "d1"
   ]
  },
  {
   "cell_type": "markdown",
   "id": "d234f065-af13-42ed-9b04-4899648510d3",
   "metadata": {},
   "source": [
    "### Creating dictionaries from sequences"
   ]
  },
  {
   "cell_type": "code",
   "execution_count": 103,
   "id": "0f784c87-1a3d-467e-8cb9-25c45f4c62a1",
   "metadata": {},
   "outputs": [],
   "source": [
    "tuples = zip(range(5), reversed(range(5)))"
   ]
  },
  {
   "cell_type": "code",
   "execution_count": 104,
   "id": "7d2c825d-24d7-40bf-b740-ad3722302149",
   "metadata": {},
   "outputs": [
    {
     "data": {
      "text/plain": [
       "<zip at 0x27f7766ac80>"
      ]
     },
     "execution_count": 104,
     "metadata": {},
     "output_type": "execute_result"
    }
   ],
   "source": [
    "tuples"
   ]
  },
  {
   "cell_type": "code",
   "execution_count": 105,
   "id": "f90af646-4b48-469d-a6a6-9e2afb0ccb42",
   "metadata": {},
   "outputs": [],
   "source": [
    "mapping = dict(tuples)"
   ]
  },
  {
   "cell_type": "code",
   "execution_count": 106,
   "id": "f641e8a2-a8ab-4312-89bc-ee9409b42a98",
   "metadata": {},
   "outputs": [
    {
     "data": {
      "text/plain": [
       "{0: 4, 1: 3, 2: 2, 3: 1, 4: 0}"
      ]
     },
     "execution_count": 106,
     "metadata": {},
     "output_type": "execute_result"
    }
   ],
   "source": [
    "mapping"
   ]
  },
  {
   "cell_type": "code",
   "execution_count": 107,
   "id": "9d4f33a1-a61a-4a7e-895d-85c302205daa",
   "metadata": {},
   "outputs": [],
   "source": [
    "words = [\"apple\", \"bat\", \"bar\", \"atom\", \"book\"]"
   ]
  },
  {
   "cell_type": "code",
   "execution_count": 108,
   "id": "0c46455f-78b7-4d7f-ab34-b2e5f3641046",
   "metadata": {},
   "outputs": [],
   "source": [
    "by_letter = {}"
   ]
  },
  {
   "cell_type": "code",
   "execution_count": 109,
   "id": "875e85f8-74b4-4747-86f6-8b69a85520ba",
   "metadata": {},
   "outputs": [],
   "source": [
    "for word in words:\n",
    "    letter = word[0]\n",
    "    if letter not in by_letter:\n",
    "        by_letter[letter] = [word]\n",
    "    else:\n",
    "        by_letter[letter].append(word)"
   ]
  },
  {
   "cell_type": "code",
   "execution_count": 110,
   "id": "6e1c5d3a-96b8-4763-a3d7-0ad8a9638d34",
   "metadata": {},
   "outputs": [
    {
     "data": {
      "text/plain": [
       "{'a': ['apple', 'atom'], 'b': ['bat', 'bar', 'book']}"
      ]
     },
     "execution_count": 110,
     "metadata": {},
     "output_type": "execute_result"
    }
   ],
   "source": [
    "by_letter"
   ]
  },
  {
   "cell_type": "code",
   "execution_count": 111,
   "id": "ecfa803c-c742-4786-8865-9913978c3fb3",
   "metadata": {},
   "outputs": [],
   "source": [
    "by_letter = {}"
   ]
  },
  {
   "cell_type": "code",
   "execution_count": 112,
   "id": "65a7efa8-5135-46db-a5d8-ccb218dec599",
   "metadata": {},
   "outputs": [],
   "source": [
    "for word in words:\n",
    "    letter = word[0]\n",
    "    by_letter.setdefault(letter, []).append(word)"
   ]
  },
  {
   "cell_type": "code",
   "execution_count": 113,
   "id": "97fa447e-e7ae-4fb7-8c7f-557e8aac61af",
   "metadata": {},
   "outputs": [
    {
     "data": {
      "text/plain": [
       "{'a': ['apple', 'atom'], 'b': ['bat', 'bar', 'book']}"
      ]
     },
     "execution_count": 113,
     "metadata": {},
     "output_type": "execute_result"
    }
   ],
   "source": [
    "by_letter"
   ]
  },
  {
   "cell_type": "code",
   "execution_count": 114,
   "id": "f34fae9a-367f-4748-a8e9-3ac80ed54e1e",
   "metadata": {},
   "outputs": [],
   "source": [
    "from collections import defaultdict"
   ]
  },
  {
   "cell_type": "code",
   "execution_count": 115,
   "id": "a2939c95-2351-4c97-9057-d4c69ec65975",
   "metadata": {},
   "outputs": [],
   "source": [
    "by_letter = defaultdict(list)"
   ]
  },
  {
   "cell_type": "code",
   "execution_count": 116,
   "id": "5e4db1f0-aeb1-42df-aabe-d8953ab1397d",
   "metadata": {},
   "outputs": [],
   "source": [
    "for word in words:\n",
    "    by_letter[word[0]].append(word)"
   ]
  },
  {
   "cell_type": "code",
   "execution_count": 117,
   "id": "10ed00fe-9c93-4cc3-b21f-8132f29887f5",
   "metadata": {},
   "outputs": [
    {
     "data": {
      "text/plain": [
       "defaultdict(list, {'a': ['apple', 'atom'], 'b': ['bat', 'bar', 'book']})"
      ]
     },
     "execution_count": 117,
     "metadata": {},
     "output_type": "execute_result"
    }
   ],
   "source": [
    "by_letter"
   ]
  },
  {
   "cell_type": "markdown",
   "id": "f930d4a3-dc9e-4cff-b235-0ccecb8ad0d4",
   "metadata": {},
   "source": [
    "### Valid dictionary key types"
   ]
  },
  {
   "cell_type": "code",
   "execution_count": 118,
   "id": "552e74e8-f7b7-4a10-a140-0482c38c4a18",
   "metadata": {},
   "outputs": [
    {
     "data": {
      "text/plain": [
       "-6111585758200092285"
      ]
     },
     "execution_count": 118,
     "metadata": {},
     "output_type": "execute_result"
    }
   ],
   "source": [
    "hash(\"string\")"
   ]
  },
  {
   "cell_type": "code",
   "execution_count": 119,
   "id": "834bff2a-8788-4290-afd2-658d5b229c90",
   "metadata": {},
   "outputs": [
    {
     "data": {
      "text/plain": [
       "-9209053662355515447"
      ]
     },
     "execution_count": 119,
     "metadata": {},
     "output_type": "execute_result"
    }
   ],
   "source": [
    "hash((1, 2, (2, 3)))"
   ]
  },
  {
   "cell_type": "code",
   "execution_count": 120,
   "id": "df1dccd2-2536-4587-b892-5e9a9340f582",
   "metadata": {},
   "outputs": [],
   "source": [
    "# hash((1, 2, [2, 3])) # failes because lists are mutable"
   ]
  },
  {
   "cell_type": "code",
   "execution_count": 121,
   "id": "93b4ab1f-31f6-49af-82c9-7dbc5b2ec063",
   "metadata": {},
   "outputs": [],
   "source": [
    "d = {}"
   ]
  },
  {
   "cell_type": "code",
   "execution_count": 122,
   "id": "44439d94-dfd0-4023-a5e9-24ac0f8b9fb6",
   "metadata": {},
   "outputs": [],
   "source": [
    "d[tuple([1, 2, 3])] = 5"
   ]
  },
  {
   "cell_type": "code",
   "execution_count": 123,
   "id": "b481c9e9-627a-4e16-8724-bacac9f32584",
   "metadata": {},
   "outputs": [
    {
     "data": {
      "text/plain": [
       "{(1, 2, 3): 5}"
      ]
     },
     "execution_count": 123,
     "metadata": {},
     "output_type": "execute_result"
    }
   ],
   "source": [
    "d"
   ]
  },
  {
   "cell_type": "markdown",
   "id": "e627fd02-1852-4fc4-b21e-476ca8e38ad5",
   "metadata": {},
   "source": [
    "## Set"
   ]
  },
  {
   "cell_type": "code",
   "execution_count": 124,
   "id": "822c771f-2d80-4289-9d9c-d80dd70d7414",
   "metadata": {},
   "outputs": [
    {
     "data": {
      "text/plain": [
       "{1, 2, 3}"
      ]
     },
     "execution_count": 124,
     "metadata": {},
     "output_type": "execute_result"
    }
   ],
   "source": [
    "set([2, 2, 2, 1, 3, 3])"
   ]
  },
  {
   "cell_type": "code",
   "execution_count": 125,
   "id": "91e53f8d-4e33-4706-bacc-092dc41e7ca8",
   "metadata": {},
   "outputs": [
    {
     "data": {
      "text/plain": [
       "{1, 2, 3}"
      ]
     },
     "execution_count": 125,
     "metadata": {},
     "output_type": "execute_result"
    }
   ],
   "source": [
    "{2, 2, 2, 1, 3, 3}"
   ]
  },
  {
   "cell_type": "code",
   "execution_count": 126,
   "id": "1656aebd-d004-408c-912d-c46a822eb36f",
   "metadata": {},
   "outputs": [],
   "source": [
    "a = {1, 2, 3, 4, 5}"
   ]
  },
  {
   "cell_type": "code",
   "execution_count": 127,
   "id": "c6890a84-4a71-496d-81ef-8014c7db4e6e",
   "metadata": {},
   "outputs": [],
   "source": [
    "b = {3, 4, 5, 6, 7, 8}"
   ]
  },
  {
   "cell_type": "code",
   "execution_count": 128,
   "id": "0190b439-04f6-4dba-9389-7f020a777266",
   "metadata": {},
   "outputs": [
    {
     "data": {
      "text/plain": [
       "{1, 2, 3, 4, 5, 6, 7, 8}"
      ]
     },
     "execution_count": 128,
     "metadata": {},
     "output_type": "execute_result"
    }
   ],
   "source": [
    "a.union(b)"
   ]
  },
  {
   "cell_type": "code",
   "execution_count": 129,
   "id": "5d97c9f4-74bd-4b2f-9cdf-1b07c25212c3",
   "metadata": {},
   "outputs": [
    {
     "data": {
      "text/plain": [
       "{1, 2, 3, 4, 5, 6, 7, 8}"
      ]
     },
     "execution_count": 129,
     "metadata": {},
     "output_type": "execute_result"
    }
   ],
   "source": [
    "a | b"
   ]
  },
  {
   "cell_type": "code",
   "execution_count": 130,
   "id": "330509de-fb6e-4c37-903c-0f7ee95d5b32",
   "metadata": {},
   "outputs": [
    {
     "data": {
      "text/plain": [
       "{3, 4, 5}"
      ]
     },
     "execution_count": 130,
     "metadata": {},
     "output_type": "execute_result"
    }
   ],
   "source": [
    "a.intersection(b)"
   ]
  },
  {
   "cell_type": "code",
   "execution_count": 131,
   "id": "a84a80ff-d506-49c7-a55e-0c6e6e63eec4",
   "metadata": {},
   "outputs": [
    {
     "data": {
      "text/plain": [
       "{3, 4, 5}"
      ]
     },
     "execution_count": 131,
     "metadata": {},
     "output_type": "execute_result"
    }
   ],
   "source": [
    "a & b"
   ]
  },
  {
   "cell_type": "code",
   "execution_count": 132,
   "id": "d5ae2786-8fc1-417f-9426-971ec78e2d3c",
   "metadata": {},
   "outputs": [],
   "source": [
    "c = a.copy()"
   ]
  },
  {
   "cell_type": "code",
   "execution_count": 133,
   "id": "a3443089-511b-4b77-9ef5-1d82bbbee4ef",
   "metadata": {},
   "outputs": [],
   "source": [
    "c |= b"
   ]
  },
  {
   "cell_type": "code",
   "execution_count": 134,
   "id": "04a050c7-0bd1-4aa6-aa0f-5d380a91c256",
   "metadata": {},
   "outputs": [
    {
     "data": {
      "text/plain": [
       "{1, 2, 3, 4, 5, 6, 7, 8}"
      ]
     },
     "execution_count": 134,
     "metadata": {},
     "output_type": "execute_result"
    }
   ],
   "source": [
    "c"
   ]
  },
  {
   "cell_type": "code",
   "execution_count": 135,
   "id": "b2fa2f2b-76d9-460a-b3b8-5d97a290de63",
   "metadata": {},
   "outputs": [],
   "source": [
    "d = a.copy()"
   ]
  },
  {
   "cell_type": "code",
   "execution_count": 136,
   "id": "50f2417d-0742-4145-bd92-fa009d235c43",
   "metadata": {},
   "outputs": [],
   "source": [
    "d &= b"
   ]
  },
  {
   "cell_type": "code",
   "execution_count": 137,
   "id": "87a7277f-3512-4a54-8255-3778665827eb",
   "metadata": {},
   "outputs": [
    {
     "data": {
      "text/plain": [
       "{3, 4, 5}"
      ]
     },
     "execution_count": 137,
     "metadata": {},
     "output_type": "execute_result"
    }
   ],
   "source": [
    "d"
   ]
  },
  {
   "cell_type": "code",
   "execution_count": 138,
   "id": "768d9523-8db2-4988-a1cb-0680c36e1d7e",
   "metadata": {},
   "outputs": [],
   "source": [
    "my_data = [1, 2, 3, 4]"
   ]
  },
  {
   "cell_type": "code",
   "execution_count": 139,
   "id": "734abd10-1454-410b-92ae-fb76fdab9ba8",
   "metadata": {},
   "outputs": [],
   "source": [
    "my_set = {tuple(my_data)}"
   ]
  },
  {
   "cell_type": "code",
   "execution_count": 140,
   "id": "9e2e32f3-3ab6-44bd-9aba-c0779d976d85",
   "metadata": {},
   "outputs": [
    {
     "data": {
      "text/plain": [
       "{(1, 2, 3, 4)}"
      ]
     },
     "execution_count": 140,
     "metadata": {},
     "output_type": "execute_result"
    }
   ],
   "source": [
    "my_set"
   ]
  },
  {
   "cell_type": "code",
   "execution_count": 141,
   "id": "3c29df3c-1606-4c92-8ef2-8aca116b5ca4",
   "metadata": {},
   "outputs": [],
   "source": [
    "a_set = {1, 2, 3, 4, 5}"
   ]
  },
  {
   "cell_type": "code",
   "execution_count": 142,
   "id": "1098aaa0-8a2e-4806-a11b-173443f54163",
   "metadata": {},
   "outputs": [
    {
     "data": {
      "text/plain": [
       "True"
      ]
     },
     "execution_count": 142,
     "metadata": {},
     "output_type": "execute_result"
    }
   ],
   "source": [
    "{1, 2, 3}.issubset(a_set)"
   ]
  },
  {
   "cell_type": "code",
   "execution_count": 143,
   "id": "cc86c078-b54a-43f9-8882-2e4da4ee500c",
   "metadata": {},
   "outputs": [
    {
     "data": {
      "text/plain": [
       "True"
      ]
     },
     "execution_count": 143,
     "metadata": {},
     "output_type": "execute_result"
    }
   ],
   "source": [
    "a_set.issuperset({1, 2, 3})"
   ]
  },
  {
   "cell_type": "code",
   "execution_count": 144,
   "id": "129f7a00-afff-4ce5-8c6a-54a7a0d2b15e",
   "metadata": {},
   "outputs": [
    {
     "data": {
      "text/plain": [
       "True"
      ]
     },
     "execution_count": 144,
     "metadata": {},
     "output_type": "execute_result"
    }
   ],
   "source": [
    "{1, 2, 3} == {3, 2, 1}"
   ]
  },
  {
   "cell_type": "markdown",
   "id": "22c67719-5376-44b0-a404-4d8830bc5cb8",
   "metadata": {},
   "source": [
    "## Build-In Sequence Functions"
   ]
  },
  {
   "cell_type": "code",
   "execution_count": 145,
   "id": "835bd433-f930-4681-b23e-9e2a8836a149",
   "metadata": {},
   "outputs": [
    {
     "data": {
      "text/plain": [
       "[0, 1, 2, 2, 3, 6, 7]"
      ]
     },
     "execution_count": 145,
     "metadata": {},
     "output_type": "execute_result"
    }
   ],
   "source": [
    "sorted([7, 1, 2, 6, 0, 3, 2])"
   ]
  },
  {
   "cell_type": "code",
   "execution_count": 146,
   "id": "993e2c94-5423-4054-b524-df0099384b9f",
   "metadata": {},
   "outputs": [
    {
     "data": {
      "text/plain": [
       "[' ', 'a', 'c', 'e', 'e', 'h', 'o', 'r', 'r', 's']"
      ]
     },
     "execution_count": 146,
     "metadata": {},
     "output_type": "execute_result"
    }
   ],
   "source": [
    "sorted(\"horse race\")"
   ]
  },
  {
   "cell_type": "code",
   "execution_count": 147,
   "id": "e92f8461-fb8b-4cc2-9367-3694396ee762",
   "metadata": {},
   "outputs": [],
   "source": [
    "seq1 = [\"foo\", \"bar\", \"baz\"]"
   ]
  },
  {
   "cell_type": "code",
   "execution_count": 148,
   "id": "a99c206a-41ca-4dfc-9972-bc07e335a4b9",
   "metadata": {},
   "outputs": [],
   "source": [
    "seq2 = [\"one\", \"two\", \"three\"]"
   ]
  },
  {
   "cell_type": "code",
   "execution_count": 149,
   "id": "e6ab0090-4c10-4f08-a297-d44946542943",
   "metadata": {},
   "outputs": [],
   "source": [
    "zipped = zip(seq1, seq2)"
   ]
  },
  {
   "cell_type": "code",
   "execution_count": 150,
   "id": "de900419-c05c-453d-b3d7-e7d78d02cc55",
   "metadata": {},
   "outputs": [
    {
     "data": {
      "text/plain": [
       "[('foo', 'one'), ('bar', 'two'), ('baz', 'three')]"
      ]
     },
     "execution_count": 150,
     "metadata": {},
     "output_type": "execute_result"
    }
   ],
   "source": [
    "list(zipped)"
   ]
  },
  {
   "cell_type": "code",
   "execution_count": 151,
   "id": "1b62642f-3bf5-4605-8d53-f347d5ebe580",
   "metadata": {},
   "outputs": [],
   "source": [
    "seq3 = [False, True]"
   ]
  },
  {
   "cell_type": "code",
   "execution_count": 152,
   "id": "f457bc6a-1008-4daa-aa6c-b5f7f870e047",
   "metadata": {},
   "outputs": [
    {
     "data": {
      "text/plain": [
       "[('foo', 'one', False), ('bar', 'two', True)]"
      ]
     },
     "execution_count": 152,
     "metadata": {},
     "output_type": "execute_result"
    }
   ],
   "source": [
    "list(zip(seq1, seq2, seq3))"
   ]
  },
  {
   "cell_type": "code",
   "execution_count": 153,
   "id": "da4f18d6-590c-4c3b-87f4-fc8644d93b2b",
   "metadata": {},
   "outputs": [
    {
     "name": "stdout",
     "output_type": "stream",
     "text": [
      "0: foo, one\n",
      "1: bar, two\n",
      "2: baz, three\n"
     ]
    }
   ],
   "source": [
    "for index, (a, b) in enumerate(zip(seq1, seq2)):\n",
    "    print(f\"{index}: {a}, {b}\")"
   ]
  },
  {
   "cell_type": "code",
   "execution_count": 154,
   "id": "e6ef62d0-a887-4b95-8db8-229f690deced",
   "metadata": {},
   "outputs": [
    {
     "data": {
      "text/plain": [
       "[9, 8, 7, 6, 5, 4, 3, 2, 1, 0]"
      ]
     },
     "execution_count": 154,
     "metadata": {},
     "output_type": "execute_result"
    }
   ],
   "source": [
    "list(reversed(range(10)))"
   ]
  },
  {
   "cell_type": "markdown",
   "id": "a9742f46-2c63-4000-8b7e-c9660ebc0c16",
   "metadata": {},
   "source": [
    "## List, Set, and Dictionary Comprehensions"
   ]
  },
  {
   "cell_type": "code",
   "execution_count": 155,
   "id": "777f7e3e-8086-4236-91f8-cc57287e6bcc",
   "metadata": {},
   "outputs": [],
   "source": [
    "strings = [\"a\", \"as\", \"bat\", \"car\", \"dove\", \"python\"]"
   ]
  },
  {
   "cell_type": "code",
   "execution_count": 156,
   "id": "52b63fec-be3f-4968-82d2-082584dffff2",
   "metadata": {},
   "outputs": [
    {
     "data": {
      "text/plain": [
       "['BAT', 'CAR', 'DOVE', 'PYTHON']"
      ]
     },
     "execution_count": 156,
     "metadata": {},
     "output_type": "execute_result"
    }
   ],
   "source": [
    "[x.upper() for x in strings if len(x) > 2]"
   ]
  },
  {
   "cell_type": "code",
   "execution_count": 157,
   "id": "43a2d538-640d-4cd2-8319-43ebc49f37cb",
   "metadata": {},
   "outputs": [],
   "source": [
    "unique_lengths = {len(x) for x in strings}"
   ]
  },
  {
   "cell_type": "code",
   "execution_count": 158,
   "id": "8fc9750f-9ccf-4961-b1aa-581e0849acb3",
   "metadata": {},
   "outputs": [
    {
     "data": {
      "text/plain": [
       "{1, 2, 3, 4, 6}"
      ]
     },
     "execution_count": 158,
     "metadata": {},
     "output_type": "execute_result"
    }
   ],
   "source": [
    "unique_lengths"
   ]
  },
  {
   "cell_type": "code",
   "execution_count": 159,
   "id": "7d36a0b9-983b-4599-a28d-f2407e693015",
   "metadata": {},
   "outputs": [
    {
     "data": {
      "text/plain": [
       "{1, 2, 3, 4, 6}"
      ]
     },
     "execution_count": 159,
     "metadata": {},
     "output_type": "execute_result"
    }
   ],
   "source": [
    "set(map(len, strings))"
   ]
  },
  {
   "cell_type": "code",
   "execution_count": 160,
   "id": "1be894f0-6616-4fc5-92c1-ab6fa292b832",
   "metadata": {},
   "outputs": [],
   "source": [
    "loc_mapping = {value: index for index, value in enumerate(strings)}"
   ]
  },
  {
   "cell_type": "code",
   "execution_count": 161,
   "id": "3a30b1b3-bfa0-4a91-b086-a6e260b4c205",
   "metadata": {},
   "outputs": [
    {
     "data": {
      "text/plain": [
       "{'a': 0, 'as': 1, 'bat': 2, 'car': 3, 'dove': 4, 'python': 5}"
      ]
     },
     "execution_count": 161,
     "metadata": {},
     "output_type": "execute_result"
    }
   ],
   "source": [
    "loc_mapping"
   ]
  },
  {
   "cell_type": "markdown",
   "id": "d9e6a35f-6708-4dbf-ae55-1e75a061441a",
   "metadata": {},
   "source": [
    "### Nested list comprehensions"
   ]
  },
  {
   "cell_type": "code",
   "execution_count": 162,
   "id": "8ce1d9a3-9cd2-4602-b3bf-3ca1e602a051",
   "metadata": {},
   "outputs": [],
   "source": [
    "all_data = [[\"John\", \"Emily\", \"Michael\", \"Mary\", \"Steven\"],\n",
    "           [\"Maria\", \"Juan\", \"Javier\", \"Natalia\", \"Pilar\"]]"
   ]
  },
  {
   "cell_type": "code",
   "execution_count": 163,
   "id": "f6c3210e-fed4-4a9e-b61f-47b0a3000e34",
   "metadata": {},
   "outputs": [],
   "source": [
    "names_of_interest = []"
   ]
  },
  {
   "cell_type": "code",
   "execution_count": 164,
   "id": "6837eab6-d226-45bc-84ed-c8aff8e20b1e",
   "metadata": {},
   "outputs": [],
   "source": [
    "for names in all_data:\n",
    "    enough_as = [name for name in names if name.count(\"a\") >= 2]\n",
    "    names_of_interest.extend(enough_as)"
   ]
  },
  {
   "cell_type": "code",
   "execution_count": 165,
   "id": "027cff98-2053-49c1-89d8-9e08f48344ff",
   "metadata": {},
   "outputs": [
    {
     "data": {
      "text/plain": [
       "['Maria', 'Natalia']"
      ]
     },
     "execution_count": 165,
     "metadata": {},
     "output_type": "execute_result"
    }
   ],
   "source": [
    "names_of_interest"
   ]
  },
  {
   "cell_type": "code",
   "execution_count": 166,
   "id": "8c07bb85-fdf9-4f0d-ba84-792ff5416da3",
   "metadata": {},
   "outputs": [],
   "source": [
    "result = [name for names in all_data for name in names\n",
    "         if name.count(\"a\") >= 2]"
   ]
  },
  {
   "cell_type": "code",
   "execution_count": 167,
   "id": "aca41b7b-eb1c-4156-821d-f9a5d0999332",
   "metadata": {},
   "outputs": [
    {
     "data": {
      "text/plain": [
       "['Maria', 'Natalia']"
      ]
     },
     "execution_count": 167,
     "metadata": {},
     "output_type": "execute_result"
    }
   ],
   "source": [
    "result"
   ]
  },
  {
   "cell_type": "code",
   "execution_count": 168,
   "id": "3a927801-1fa1-44cb-9982-e33bfb1f902a",
   "metadata": {},
   "outputs": [],
   "source": [
    "some_tuples = [(1, 2, 3), (4, 5, 6), (7, 8, 9)]"
   ]
  },
  {
   "cell_type": "code",
   "execution_count": 169,
   "id": "8079ba10-2191-4180-bb4d-bd65c9908158",
   "metadata": {},
   "outputs": [],
   "source": [
    "flattened = [x for tup in some_tuples for x in tup]"
   ]
  },
  {
   "cell_type": "code",
   "execution_count": 170,
   "id": "bfb3e34b-fdb8-4edd-85ca-cc9b4aa5d5ac",
   "metadata": {},
   "outputs": [
    {
     "data": {
      "text/plain": [
       "[1, 2, 3, 4, 5, 6, 7, 8, 9]"
      ]
     },
     "execution_count": 170,
     "metadata": {},
     "output_type": "execute_result"
    }
   ],
   "source": [
    "flattened"
   ]
  },
  {
   "cell_type": "code",
   "execution_count": 171,
   "id": "7e03b219-da33-4e62-af61-3a0b6279e690",
   "metadata": {},
   "outputs": [],
   "source": [
    "flattened = []"
   ]
  },
  {
   "cell_type": "code",
   "execution_count": 172,
   "id": "0b2bc735-a0ce-471f-ad66-634689dc197c",
   "metadata": {},
   "outputs": [],
   "source": [
    "for tup in some_tuples:\n",
    "    for x in tup:\n",
    "        flattened.append(x)"
   ]
  },
  {
   "cell_type": "code",
   "execution_count": 173,
   "id": "ccf31805-d470-448c-90fc-eeeee88b1af5",
   "metadata": {},
   "outputs": [
    {
     "data": {
      "text/plain": [
       "[1, 2, 3, 4, 5, 6, 7, 8, 9]"
      ]
     },
     "execution_count": 173,
     "metadata": {},
     "output_type": "execute_result"
    }
   ],
   "source": [
    "flattened"
   ]
  },
  {
   "cell_type": "code",
   "execution_count": 174,
   "id": "44037e5b-6f92-414b-80d8-5b8ecddeeaa0",
   "metadata": {},
   "outputs": [
    {
     "data": {
      "text/plain": [
       "[[1, 2, 3], [4, 5, 6], [7, 8, 9]]"
      ]
     },
     "execution_count": 174,
     "metadata": {},
     "output_type": "execute_result"
    }
   ],
   "source": [
    "[[x for x in tup] for tup in some_tuples]"
   ]
  },
  {
   "cell_type": "markdown",
   "id": "119c04b4-0799-4be8-9d3d-2978ba332035",
   "metadata": {},
   "source": [
    "## Functions"
   ]
  },
  {
   "cell_type": "code",
   "execution_count": 175,
   "id": "c9477590-2cef-47ce-94cb-792d415f0cac",
   "metadata": {},
   "outputs": [],
   "source": [
    "def my_function(x, y):\n",
    "    return x + y"
   ]
  },
  {
   "cell_type": "code",
   "execution_count": 176,
   "id": "e917ac90-26a5-48b3-ae8e-7d6df094cbca",
   "metadata": {},
   "outputs": [
    {
     "data": {
      "text/plain": [
       "3"
      ]
     },
     "execution_count": 176,
     "metadata": {},
     "output_type": "execute_result"
    }
   ],
   "source": [
    "my_function(1, 2)"
   ]
  },
  {
   "cell_type": "code",
   "execution_count": 177,
   "id": "dd489948-21af-4f01-9831-a4b36e1e034d",
   "metadata": {},
   "outputs": [],
   "source": [
    "result = my_function(4, 5)"
   ]
  },
  {
   "cell_type": "code",
   "execution_count": 178,
   "id": "cf23e0ff-93ba-4bf3-b18f-e3788a62cc2c",
   "metadata": {},
   "outputs": [
    {
     "data": {
      "text/plain": [
       "9"
      ]
     },
     "execution_count": 178,
     "metadata": {},
     "output_type": "execute_result"
    }
   ],
   "source": [
    "result"
   ]
  },
  {
   "cell_type": "code",
   "execution_count": 179,
   "id": "a324c968-38f5-466d-8bbb-c5f0b77b837a",
   "metadata": {},
   "outputs": [],
   "source": [
    "def function_without_return(x):\n",
    "    print(x)"
   ]
  },
  {
   "cell_type": "code",
   "execution_count": 180,
   "id": "4cdbbfb7-47aa-4034-afa0-347405a741f5",
   "metadata": {},
   "outputs": [
    {
     "name": "stdout",
     "output_type": "stream",
     "text": [
      "hello!\n"
     ]
    }
   ],
   "source": [
    "result = function_without_return(\"hello!\")"
   ]
  },
  {
   "cell_type": "code",
   "execution_count": 181,
   "id": "0839e31e-8117-4679-9975-3a9a5fdb4b45",
   "metadata": {},
   "outputs": [
    {
     "name": "stdout",
     "output_type": "stream",
     "text": [
      "None\n"
     ]
    }
   ],
   "source": [
    "print(result)"
   ]
  },
  {
   "cell_type": "code",
   "execution_count": 182,
   "id": "9eb54629-6100-4ea3-a938-8fb55708358d",
   "metadata": {},
   "outputs": [],
   "source": [
    "def my_function2(x, y, z=1.5):\n",
    "    if z > 1:\n",
    "        return z * (x + y)\n",
    "    else:\n",
    "        return z / (x + y)"
   ]
  },
  {
   "cell_type": "code",
   "execution_count": 183,
   "id": "8a5a98e2-0022-40e0-9758-d06f7ea2a0c1",
   "metadata": {},
   "outputs": [
    {
     "data": {
      "text/plain": [
       "0.06363636363636363"
      ]
     },
     "execution_count": 183,
     "metadata": {},
     "output_type": "execute_result"
    }
   ],
   "source": [
    "my_function2(5, 6, z=0.7)"
   ]
  },
  {
   "cell_type": "code",
   "execution_count": 184,
   "id": "bfb42aa0-9c0b-4d90-981d-d664b2b9d42b",
   "metadata": {},
   "outputs": [
    {
     "data": {
      "text/plain": [
       "35.49"
      ]
     },
     "execution_count": 184,
     "metadata": {},
     "output_type": "execute_result"
    }
   ],
   "source": [
    "my_function2(3.14, 7, 3.5)"
   ]
  },
  {
   "cell_type": "code",
   "execution_count": 185,
   "id": "1679af66-0ce8-4b7a-afb1-40f449671bf6",
   "metadata": {},
   "outputs": [
    {
     "data": {
      "text/plain": [
       "45.0"
      ]
     },
     "execution_count": 185,
     "metadata": {},
     "output_type": "execute_result"
    }
   ],
   "source": [
    "my_function2(10, 20)"
   ]
  },
  {
   "cell_type": "markdown",
   "id": "ddbe5079-bc04-4762-bc92-506197998874",
   "metadata": {},
   "source": [
    "### Namespaces, Scope, and Local Functions"
   ]
  },
  {
   "cell_type": "code",
   "execution_count": 186,
   "id": "04da7556-7057-4da8-ad49-363868ede913",
   "metadata": {},
   "outputs": [],
   "source": [
    "a = []"
   ]
  },
  {
   "cell_type": "code",
   "execution_count": 187,
   "id": "39b86673-1ee7-41d9-9df9-c9cad0b02652",
   "metadata": {},
   "outputs": [],
   "source": [
    "def func():\n",
    "    for i in range(5):\n",
    "        a.append(i)"
   ]
  },
  {
   "cell_type": "code",
   "execution_count": 188,
   "id": "8126774a-dbd3-4d04-86c4-1e4b1d80321e",
   "metadata": {},
   "outputs": [],
   "source": [
    "func()"
   ]
  },
  {
   "cell_type": "code",
   "execution_count": 189,
   "id": "8db774fa-536b-4bf6-9ab1-fe9660613b56",
   "metadata": {},
   "outputs": [
    {
     "data": {
      "text/plain": [
       "[0, 1, 2, 3, 4]"
      ]
     },
     "execution_count": 189,
     "metadata": {},
     "output_type": "execute_result"
    }
   ],
   "source": [
    "a"
   ]
  },
  {
   "cell_type": "code",
   "execution_count": 190,
   "id": "98d1d2cd-53ef-4ab6-877d-325fddc3c740",
   "metadata": {},
   "outputs": [],
   "source": [
    "func()"
   ]
  },
  {
   "cell_type": "code",
   "execution_count": 191,
   "id": "b40ffae8-7528-48df-be2b-1f9cce15e35b",
   "metadata": {},
   "outputs": [
    {
     "data": {
      "text/plain": [
       "[0, 1, 2, 3, 4, 0, 1, 2, 3, 4]"
      ]
     },
     "execution_count": 191,
     "metadata": {},
     "output_type": "execute_result"
    }
   ],
   "source": [
    "a"
   ]
  },
  {
   "cell_type": "code",
   "execution_count": 192,
   "id": "979517c1-a0a7-4bf6-ba63-d5d321d74e3b",
   "metadata": {},
   "outputs": [],
   "source": [
    "a = None"
   ]
  },
  {
   "cell_type": "code",
   "execution_count": 193,
   "id": "f1e5d35f-6569-4703-950a-6cdf12afa015",
   "metadata": {},
   "outputs": [],
   "source": [
    "def bind_a_variable():\n",
    "    global a\n",
    "    a = []\n",
    "    \n",
    "bind_a_variable()"
   ]
  },
  {
   "cell_type": "code",
   "execution_count": 194,
   "id": "10e95d4b-2431-482d-97d3-5469dfcaaa40",
   "metadata": {},
   "outputs": [
    {
     "name": "stdout",
     "output_type": "stream",
     "text": [
      "[]\n"
     ]
    }
   ],
   "source": [
    "print(a)"
   ]
  },
  {
   "cell_type": "code",
   "execution_count": 195,
   "id": "05484299-79f1-4851-a232-7ebc63194a20",
   "metadata": {},
   "outputs": [],
   "source": [
    "def f():\n",
    "    a = 5\n",
    "    b = 6\n",
    "    c = 7\n",
    "    return a, b, c"
   ]
  },
  {
   "cell_type": "code",
   "execution_count": 196,
   "id": "9b9af123-27c8-4248-b2f3-3955660abc74",
   "metadata": {},
   "outputs": [],
   "source": [
    "a, b, c = f()"
   ]
  },
  {
   "cell_type": "code",
   "execution_count": 197,
   "id": "f221d4e6-fce2-4cf9-acf9-f5e3840d10fe",
   "metadata": {},
   "outputs": [],
   "source": [
    "def another_function():\n",
    "    a = 5\n",
    "    b = 6\n",
    "    c = 7\n",
    "    return {\"a\" : a, \"b\" : b, \"c\" : c}"
   ]
  },
  {
   "cell_type": "code",
   "execution_count": 198,
   "id": "f1bc4e88-b735-427a-9bb6-4e9b4de52201",
   "metadata": {},
   "outputs": [
    {
     "data": {
      "text/plain": [
       "(5, 6, 7)"
      ]
     },
     "execution_count": 198,
     "metadata": {},
     "output_type": "execute_result"
    }
   ],
   "source": [
    "f()"
   ]
  },
  {
   "cell_type": "code",
   "execution_count": 199,
   "id": "e51c0665-68bf-4a88-9631-42a90473b6a9",
   "metadata": {},
   "outputs": [
    {
     "data": {
      "text/plain": [
       "{'a': 5, 'b': 6, 'c': 7}"
      ]
     },
     "execution_count": 199,
     "metadata": {},
     "output_type": "execute_result"
    }
   ],
   "source": [
    "another_function()"
   ]
  },
  {
   "cell_type": "markdown",
   "id": "8818b937-be0e-4395-93b2-be4fdf30b7fd",
   "metadata": {},
   "source": [
    "### Functions Are Objects"
   ]
  },
  {
   "cell_type": "code",
   "execution_count": 200,
   "id": "1ccae25d-6493-4341-a2b7-7ee77b21471d",
   "metadata": {},
   "outputs": [],
   "source": [
    "states = [\"    Alabama \", \"Georgia!\", \"Georgia\", \"georgia\", \"FlOrIda\", \"south   carolina##\", \"West virginia?\"]"
   ]
  },
  {
   "cell_type": "code",
   "execution_count": 201,
   "id": "9197f452-7847-4f5c-93a0-d59e2ef2d879",
   "metadata": {},
   "outputs": [],
   "source": [
    "import re"
   ]
  },
  {
   "cell_type": "code",
   "execution_count": 202,
   "id": "df36fd66-1493-4384-b96a-7a6069820be1",
   "metadata": {},
   "outputs": [],
   "source": [
    "def clean_strings(strings):\n",
    "    result = []\n",
    "    for value in strings:\n",
    "        value = value.strip()\n",
    "        value = re.sub(\"[!#?]\", \"\", value)\n",
    "        value = value.title()\n",
    "        result.append(value)\n",
    "    return result"
   ]
  },
  {
   "cell_type": "code",
   "execution_count": 203,
   "id": "62f8ddcd-17a0-4ea9-b55b-0aa620107a35",
   "metadata": {},
   "outputs": [
    {
     "data": {
      "text/plain": [
       "['Alabama',\n",
       " 'Georgia',\n",
       " 'Georgia',\n",
       " 'Georgia',\n",
       " 'Florida',\n",
       " 'South   Carolina',\n",
       " 'West Virginia']"
      ]
     },
     "execution_count": 203,
     "metadata": {},
     "output_type": "execute_result"
    }
   ],
   "source": [
    "clean_strings(states)"
   ]
  },
  {
   "cell_type": "code",
   "execution_count": 204,
   "id": "5c653c7f-e022-4dcd-809c-564c9e5b90b9",
   "metadata": {},
   "outputs": [],
   "source": [
    "def remove_punctuation(value):\n",
    "    return re.sub(\"[!#?]\", \"\", value)"
   ]
  },
  {
   "cell_type": "code",
   "execution_count": 205,
   "id": "8648b36d-8c20-4a69-b881-4ece49610540",
   "metadata": {},
   "outputs": [],
   "source": [
    "clean_ops = [str.strip, remove_punctuation, str.title]"
   ]
  },
  {
   "cell_type": "code",
   "execution_count": 206,
   "id": "9fb1dcee-ee78-4b03-9055-d37f5253544b",
   "metadata": {},
   "outputs": [],
   "source": [
    "def clean_strings(strings, ops):\n",
    "    result = []\n",
    "    for value in strings:\n",
    "        for func in ops:\n",
    "            value = func(value)\n",
    "        result.append(value)\n",
    "    return result"
   ]
  },
  {
   "cell_type": "code",
   "execution_count": 207,
   "id": "4721b2be-0a3d-4222-bd0f-921340cf6b7d",
   "metadata": {},
   "outputs": [
    {
     "data": {
      "text/plain": [
       "['Alabama',\n",
       " 'Georgia',\n",
       " 'Georgia',\n",
       " 'Georgia',\n",
       " 'Florida',\n",
       " 'South   Carolina',\n",
       " 'West Virginia']"
      ]
     },
     "execution_count": 207,
     "metadata": {},
     "output_type": "execute_result"
    }
   ],
   "source": [
    "clean_strings(states, clean_ops)"
   ]
  },
  {
   "cell_type": "code",
   "execution_count": 208,
   "id": "c3e508cc-cea0-46a8-82f6-d40d72c0d5dc",
   "metadata": {},
   "outputs": [
    {
     "name": "stdout",
     "output_type": "stream",
     "text": [
      "    Alabama \n",
      "Georgia\n",
      "Georgia\n",
      "georgia\n",
      "FlOrIda\n",
      "south   carolina\n",
      "West virginia\n"
     ]
    }
   ],
   "source": [
    "for x in map(remove_punctuation, states):\n",
    "    print(x)"
   ]
  },
  {
   "cell_type": "markdown",
   "id": "bc37a6f2-21a1-4d60-9e35-3d32399c9b3f",
   "metadata": {},
   "source": [
    "### Anonymous (Lambda) Functions"
   ]
  },
  {
   "cell_type": "code",
   "execution_count": 209,
   "id": "f4958a9c-7872-40c3-9aac-0f4abc7b6edb",
   "metadata": {},
   "outputs": [],
   "source": [
    "def short_function(x):\n",
    "    return x * 2"
   ]
  },
  {
   "cell_type": "code",
   "execution_count": 210,
   "id": "fe255dcd-7aff-4a20-9809-00abd7796cb4",
   "metadata": {},
   "outputs": [
    {
     "data": {
      "text/plain": [
       "10"
      ]
     },
     "execution_count": 210,
     "metadata": {},
     "output_type": "execute_result"
    }
   ],
   "source": [
    "short_function(5)"
   ]
  },
  {
   "cell_type": "code",
   "execution_count": 211,
   "id": "b8b3383e-a7da-466a-badf-1514900b9685",
   "metadata": {},
   "outputs": [],
   "source": [
    "equivalent_function = lambda x: x * 2"
   ]
  },
  {
   "cell_type": "code",
   "execution_count": 212,
   "id": "7d24db48-e0e7-4470-9a58-0849a761971e",
   "metadata": {},
   "outputs": [
    {
     "data": {
      "text/plain": [
       "10"
      ]
     },
     "execution_count": 212,
     "metadata": {},
     "output_type": "execute_result"
    }
   ],
   "source": [
    "equivalent_function(5)"
   ]
  },
  {
   "cell_type": "code",
   "execution_count": 213,
   "id": "60a30c1c-34d5-4a2e-8708-9eea2ebad478",
   "metadata": {},
   "outputs": [],
   "source": [
    "def apply_to_list(some_list, f):\n",
    "    return [f(x) for x in some_list]"
   ]
  },
  {
   "cell_type": "code",
   "execution_count": 214,
   "id": "f87aac96-bfd4-4483-88fd-429d2dcb2864",
   "metadata": {},
   "outputs": [],
   "source": [
    "ints = [4, 0, 1, 5, 6]"
   ]
  },
  {
   "cell_type": "code",
   "execution_count": 215,
   "id": "bc5fb02c-4052-4d4e-822c-4824ba2f270b",
   "metadata": {},
   "outputs": [
    {
     "data": {
      "text/plain": [
       "[8, 0, 2, 10, 12]"
      ]
     },
     "execution_count": 215,
     "metadata": {},
     "output_type": "execute_result"
    }
   ],
   "source": [
    "apply_to_list(ints, lambda x: x * 2)"
   ]
  },
  {
   "cell_type": "code",
   "execution_count": 216,
   "id": "9d3f3fb4-e0d4-4035-8e24-ad59274f54f3",
   "metadata": {},
   "outputs": [],
   "source": [
    "strings = [\"foo\", \"card\", \"bar\", \"aaaa\", \"abab\"]"
   ]
  },
  {
   "cell_type": "code",
   "execution_count": 217,
   "id": "904a3c42-5d46-4478-b593-d13e6130c167",
   "metadata": {},
   "outputs": [],
   "source": [
    "strings.sort(key=lambda x: len(set(x)))"
   ]
  },
  {
   "cell_type": "code",
   "execution_count": 218,
   "id": "9a48fee3-213e-482a-a764-f281c388eb30",
   "metadata": {},
   "outputs": [
    {
     "data": {
      "text/plain": [
       "['aaaa', 'foo', 'abab', 'bar', 'card']"
      ]
     },
     "execution_count": 218,
     "metadata": {},
     "output_type": "execute_result"
    }
   ],
   "source": [
    "strings"
   ]
  },
  {
   "cell_type": "markdown",
   "id": "794e4699-7736-4a78-94c9-24c2845d0b5b",
   "metadata": {},
   "source": [
    "### Generators"
   ]
  },
  {
   "cell_type": "code",
   "execution_count": 219,
   "id": "7f1618f9-ab75-45af-8a09-e6af8deb4b87",
   "metadata": {},
   "outputs": [],
   "source": [
    "some_dict = {\"a\": 1, \"b\": 2, \"c\": 3}"
   ]
  },
  {
   "cell_type": "code",
   "execution_count": 220,
   "id": "dfaa7f53-9aa8-459e-b74b-02a111961727",
   "metadata": {},
   "outputs": [
    {
     "name": "stdout",
     "output_type": "stream",
     "text": [
      "a\n",
      "b\n",
      "c\n"
     ]
    }
   ],
   "source": [
    "for key in some_dict:\n",
    "    print(key)"
   ]
  },
  {
   "cell_type": "code",
   "execution_count": 221,
   "id": "a08d09a5-6a07-4009-bfc8-1c067556614e",
   "metadata": {},
   "outputs": [],
   "source": [
    "dict_iterator = iter(some_dict)"
   ]
  },
  {
   "cell_type": "code",
   "execution_count": 222,
   "id": "4c85c01d-8463-46a6-b083-c85fab5d7366",
   "metadata": {},
   "outputs": [
    {
     "data": {
      "text/plain": [
       "<dict_keyiterator at 0x27f776da2c0>"
      ]
     },
     "execution_count": 222,
     "metadata": {},
     "output_type": "execute_result"
    }
   ],
   "source": [
    "dict_iterator"
   ]
  },
  {
   "cell_type": "code",
   "execution_count": 223,
   "id": "cd382c6a-0a6c-4844-8e47-395cbecfe7f5",
   "metadata": {},
   "outputs": [
    {
     "data": {
      "text/plain": [
       "['a', 'b', 'c']"
      ]
     },
     "execution_count": 223,
     "metadata": {},
     "output_type": "execute_result"
    }
   ],
   "source": [
    "list(dict_iterator)"
   ]
  },
  {
   "cell_type": "code",
   "execution_count": 224,
   "id": "5446ef5a-5d81-42cf-8e1d-2589a46b48aa",
   "metadata": {},
   "outputs": [],
   "source": [
    "def squares(n=10):\n",
    "    print(f\"Generating squares from 1 to {n ** 2}\")\n",
    "    for i in range(1, n + 1):\n",
    "        yield i ** 2"
   ]
  },
  {
   "cell_type": "code",
   "execution_count": 225,
   "id": "16b280c5-64f4-4bf7-8e89-ed92dbed88c9",
   "metadata": {},
   "outputs": [],
   "source": [
    "gen = squares()"
   ]
  },
  {
   "cell_type": "code",
   "execution_count": 226,
   "id": "b50090f8-07ac-4426-a4dd-913b71599fec",
   "metadata": {},
   "outputs": [
    {
     "data": {
      "text/plain": [
       "<generator object squares at 0x0000027F776D93C0>"
      ]
     },
     "execution_count": 226,
     "metadata": {},
     "output_type": "execute_result"
    }
   ],
   "source": [
    "gen"
   ]
  },
  {
   "cell_type": "code",
   "execution_count": 227,
   "id": "e8346ba7-f7ae-42d6-b550-122fb8f53ab7",
   "metadata": {},
   "outputs": [
    {
     "name": "stdout",
     "output_type": "stream",
     "text": [
      "Generating squares from 1 to 100\n",
      "1 4 9 16 25 36 49 64 81 100 "
     ]
    }
   ],
   "source": [
    "for x in gen:\n",
    "    print(x, end=\" \")"
   ]
  },
  {
   "cell_type": "code",
   "execution_count": 228,
   "id": "018fec95-8faa-40f5-bd05-845f64761584",
   "metadata": {},
   "outputs": [],
   "source": [
    "gen = (x ** 2 for x in range(100))"
   ]
  },
  {
   "cell_type": "code",
   "execution_count": 229,
   "id": "4770d4a9-8bc5-442d-a7ec-6c4644f76483",
   "metadata": {},
   "outputs": [
    {
     "data": {
      "text/plain": [
       "<generator object <genexpr> at 0x0000027F776D9C10>"
      ]
     },
     "execution_count": 229,
     "metadata": {},
     "output_type": "execute_result"
    }
   ],
   "source": [
    "gen"
   ]
  },
  {
   "cell_type": "code",
   "execution_count": 230,
   "id": "8b655600-2c7f-4f78-937c-fb7f7db63d32",
   "metadata": {},
   "outputs": [],
   "source": [
    "def _make_gen():\n",
    "    for x in range(100):\n",
    "        yield x ** 2\n",
    "        \n",
    "gen = _make_gen()"
   ]
  },
  {
   "cell_type": "code",
   "execution_count": 231,
   "id": "e23547dd-0ddc-4f09-a129-871d0804fa85",
   "metadata": {},
   "outputs": [
    {
     "data": {
      "text/plain": [
       "328350"
      ]
     },
     "execution_count": 231,
     "metadata": {},
     "output_type": "execute_result"
    }
   ],
   "source": [
    "sum(x ** 2 for x in range(100))"
   ]
  },
  {
   "cell_type": "code",
   "execution_count": 232,
   "id": "d6cda764-4bdb-447c-84f1-fa9e49a4b0ac",
   "metadata": {},
   "outputs": [
    {
     "data": {
      "text/plain": [
       "{0: 0, 1: 1, 2: 4, 3: 9, 4: 16}"
      ]
     },
     "execution_count": 232,
     "metadata": {},
     "output_type": "execute_result"
    }
   ],
   "source": [
    "dict((i, i ** 2) for i in range(5))"
   ]
  },
  {
   "cell_type": "code",
   "execution_count": 233,
   "id": "b5bea737-c839-4ebb-9d53-bcd92ff78307",
   "metadata": {},
   "outputs": [],
   "source": [
    "import itertools"
   ]
  },
  {
   "cell_type": "code",
   "execution_count": 234,
   "id": "4f3c5b50-b77b-464f-92e3-eec71ab09b9d",
   "metadata": {},
   "outputs": [],
   "source": [
    "def first_letter(x):\n",
    "    return x[0]"
   ]
  },
  {
   "cell_type": "code",
   "execution_count": 235,
   "id": "cd37caa7-499a-4e29-8a0e-10bf04bc8244",
   "metadata": {},
   "outputs": [],
   "source": [
    "names = [\"Alan\", \"Adam\", \"Wes\", \"Will\", \"Albert\", \"Steven\"]"
   ]
  },
  {
   "cell_type": "code",
   "execution_count": 236,
   "id": "1f908482-1b37-40ea-8174-7e82db73a34d",
   "metadata": {},
   "outputs": [
    {
     "name": "stdout",
     "output_type": "stream",
     "text": [
      "A ['Alan', 'Adam']\n",
      "W ['Wes', 'Will']\n",
      "A ['Albert']\n",
      "S ['Steven']\n"
     ]
    }
   ],
   "source": [
    "for letter, names in itertools.groupby(names, first_letter):\n",
    "    print(letter, list(names)) # names is a generator"
   ]
  },
  {
   "cell_type": "markdown",
   "id": "a67ed766-5a52-47cb-9bb9-dbabd56b1b1f",
   "metadata": {},
   "source": [
    "## Errors and Exception Handling"
   ]
  },
  {
   "cell_type": "code",
   "execution_count": 237,
   "id": "53ef8d23-1f4d-4a2a-a81a-bbb03d2ff1c7",
   "metadata": {},
   "outputs": [],
   "source": [
    "def attempt_float(x):\n",
    "    try:\n",
    "        return float(x)\n",
    "    except:\n",
    "        return x"
   ]
  },
  {
   "cell_type": "code",
   "execution_count": 238,
   "id": "ea56e705-2c5b-4538-81a2-9583ee0e1ce3",
   "metadata": {},
   "outputs": [
    {
     "data": {
      "text/plain": [
       "1.2345"
      ]
     },
     "execution_count": 238,
     "metadata": {},
     "output_type": "execute_result"
    }
   ],
   "source": [
    "attempt_float(\"1.2345\")"
   ]
  },
  {
   "cell_type": "code",
   "execution_count": 239,
   "id": "8fe5d1c4-cd74-4226-aff9-7b2bd5b0690d",
   "metadata": {},
   "outputs": [
    {
     "data": {
      "text/plain": [
       "'something'"
      ]
     },
     "execution_count": 239,
     "metadata": {},
     "output_type": "execute_result"
    }
   ],
   "source": [
    "attempt_float(\"something\")"
   ]
  },
  {
   "cell_type": "code",
   "execution_count": 240,
   "id": "f998a48a-fded-4a33-bd2f-9da725dea219",
   "metadata": {},
   "outputs": [],
   "source": [
    "def attempt_float(x):\n",
    "    try:\n",
    "        return float(x)\n",
    "    except (TypeError, ValueError):\n",
    "        return x"
   ]
  },
  {
   "cell_type": "code",
   "execution_count": 241,
   "id": "ea02beca-3c3e-4ea7-a9f4-c82da79b9110",
   "metadata": {},
   "outputs": [
    {
     "data": {
      "text/plain": [
       "(1, 2)"
      ]
     },
     "execution_count": 241,
     "metadata": {},
     "output_type": "execute_result"
    }
   ],
   "source": [
    "attempt_float((1, 2))"
   ]
  },
  {
   "cell_type": "markdown",
   "id": "a9c66ecd-7817-4e4e-9262-5ba395f9170a",
   "metadata": {},
   "source": [
    "# using finally\n",
    "\n",
    "f = open(path, mode=\"w\")\n",
    "\n",
    "try:\n",
    "    write_to_file(f)\n",
    "except:\n",
    "    print(\"Failed\")\n",
    "else:\n",
    "    print(\"Succeeded\")\n",
    "finally:\n",
    "    f.close()"
   ]
  },
  {
   "cell_type": "markdown",
   "id": "0f5f93b6-634f-4a2c-b538-a4349f75e5b1",
   "metadata": {},
   "source": [
    "## Files and the Operating System"
   ]
  },
  {
   "cell_type": "code",
   "execution_count": 242,
   "id": "aca8e378-177a-4ecc-9e73-9bf8f72327bc",
   "metadata": {},
   "outputs": [],
   "source": [
    "path = r\"C:\\Users\\seanb\\Desktop\\Pyhon_for_Data_Analysis\\Ch3\\ examples\\segismundo.txt\""
   ]
  },
  {
   "cell_type": "code",
   "execution_count": 243,
   "id": "9f1f7172-7248-48cb-990d-29b28cb1f21c",
   "metadata": {},
   "outputs": [],
   "source": [
    "f = open(path, encoding=\"utf-8\")"
   ]
  },
  {
   "cell_type": "code",
   "execution_count": 244,
   "id": "c67af20d-73c3-44c6-bd1d-0b81aed4fc11",
   "metadata": {},
   "outputs": [
    {
     "name": "stdout",
     "output_type": "stream",
     "text": [
      "Sueña el rico en su riqueza,\n",
      "\n",
      "que más cuidados le ofrece;\n",
      "\n",
      "\n",
      "\n",
      "sueña el pobre que padece\n",
      "\n",
      "su miseria y su pobreza;\n",
      "\n",
      "\n",
      "\n",
      "sueña el que a medrar empieza,\n",
      "\n",
      "sueña el que afana y pretende,\n",
      "\n",
      "sueña el que agravia y ofende,\n",
      "\n",
      "\n",
      "\n",
      "y en el mundo, en conclusión,\n",
      "\n",
      "todos sueñan lo que son,\n",
      "\n",
      "aunque ninguno lo entiende.\n",
      "\n",
      "\n",
      "\n"
     ]
    }
   ],
   "source": [
    "for line in f:\n",
    "    print(line)"
   ]
  },
  {
   "cell_type": "code",
   "execution_count": 245,
   "id": "7fab9923-3236-43a0-8dc7-ca4940af248d",
   "metadata": {},
   "outputs": [],
   "source": [
    "lines = [x.rstrip() for x in open(path, encoding=\"utf-8\")]"
   ]
  },
  {
   "cell_type": "code",
   "execution_count": 246,
   "id": "299fc4fb-30ae-4fbc-a0a0-b2f947c03e5a",
   "metadata": {},
   "outputs": [
    {
     "data": {
      "text/plain": [
       "['Sueña el rico en su riqueza,',\n",
       " 'que más cuidados le ofrece;',\n",
       " '',\n",
       " 'sueña el pobre que padece',\n",
       " 'su miseria y su pobreza;',\n",
       " '',\n",
       " 'sueña el que a medrar empieza,',\n",
       " 'sueña el que afana y pretende,',\n",
       " 'sueña el que agravia y ofende,',\n",
       " '',\n",
       " 'y en el mundo, en conclusión,',\n",
       " 'todos sueñan lo que son,',\n",
       " 'aunque ninguno lo entiende.',\n",
       " '']"
      ]
     },
     "execution_count": 246,
     "metadata": {},
     "output_type": "execute_result"
    }
   ],
   "source": [
    "lines"
   ]
  },
  {
   "cell_type": "code",
   "execution_count": 247,
   "id": "7b59474d-5135-48ad-a714-4af1e89cc513",
   "metadata": {},
   "outputs": [],
   "source": [
    "f.close()"
   ]
  },
  {
   "cell_type": "code",
   "execution_count": 248,
   "id": "ddbd5837-7700-468b-b4bf-9b025443fde9",
   "metadata": {},
   "outputs": [],
   "source": [
    "with open(path, encoding=\"utf-8\") as f:\n",
    "    lines = [x.rstrip() for x in f]"
   ]
  },
  {
   "cell_type": "code",
   "execution_count": 249,
   "id": "538b28d3-fdea-4a62-833c-1f6548c1f578",
   "metadata": {},
   "outputs": [],
   "source": [
    "f1 = open(path)"
   ]
  },
  {
   "cell_type": "code",
   "execution_count": 250,
   "id": "43d32742-31c6-4380-b12a-bf0aaa045b8b",
   "metadata": {},
   "outputs": [
    {
     "data": {
      "text/plain": [
       "'SueÃ±a el '"
      ]
     },
     "execution_count": 250,
     "metadata": {},
     "output_type": "execute_result"
    }
   ],
   "source": [
    "f1.read(10)"
   ]
  },
  {
   "cell_type": "code",
   "execution_count": 251,
   "id": "684e1ae6-c068-4ccd-a736-6bdf5243defd",
   "metadata": {},
   "outputs": [],
   "source": [
    "f2 = open(path, mode=\"rb\") # Binary mode"
   ]
  },
  {
   "cell_type": "code",
   "execution_count": 252,
   "id": "ee80fa1a-15c3-473d-8c44-cacf2850ec3d",
   "metadata": {},
   "outputs": [
    {
     "data": {
      "text/plain": [
       "b'Sue\\xc3\\xb1a el '"
      ]
     },
     "execution_count": 252,
     "metadata": {},
     "output_type": "execute_result"
    }
   ],
   "source": [
    "f2.read(10)"
   ]
  },
  {
   "cell_type": "code",
   "execution_count": 253,
   "id": "258a2a55-a91f-4f0e-b645-b9782de693bb",
   "metadata": {},
   "outputs": [
    {
     "data": {
      "text/plain": [
       "10"
      ]
     },
     "execution_count": 253,
     "metadata": {},
     "output_type": "execute_result"
    }
   ],
   "source": [
    "f1.tell()"
   ]
  },
  {
   "cell_type": "code",
   "execution_count": 254,
   "id": "1661e445-14d4-4a16-b1e7-e06e95f35dce",
   "metadata": {},
   "outputs": [
    {
     "data": {
      "text/plain": [
       "10"
      ]
     },
     "execution_count": 254,
     "metadata": {},
     "output_type": "execute_result"
    }
   ],
   "source": [
    "f2.tell()"
   ]
  },
  {
   "cell_type": "code",
   "execution_count": 255,
   "id": "3abd7b82-0a00-4faa-a162-6aeaf2389300",
   "metadata": {},
   "outputs": [
    {
     "data": {
      "text/plain": [
       "'utf-8'"
      ]
     },
     "execution_count": 255,
     "metadata": {},
     "output_type": "execute_result"
    }
   ],
   "source": [
    "import sys\n",
    "sys.getdefaultencoding()"
   ]
  },
  {
   "cell_type": "code",
   "execution_count": 256,
   "id": "4fdfcc08-0765-4d38-acb9-0bd985a9969b",
   "metadata": {},
   "outputs": [
    {
     "data": {
      "text/plain": [
       "3"
      ]
     },
     "execution_count": 256,
     "metadata": {},
     "output_type": "execute_result"
    }
   ],
   "source": [
    "f1.seek(3)"
   ]
  },
  {
   "cell_type": "code",
   "execution_count": 257,
   "id": "fb79bbbd-a4e4-4abb-9b5d-3007971bb81a",
   "metadata": {},
   "outputs": [
    {
     "data": {
      "text/plain": [
       "'Ã'"
      ]
     },
     "execution_count": 257,
     "metadata": {},
     "output_type": "execute_result"
    }
   ],
   "source": [
    "f1.read(1)"
   ]
  },
  {
   "cell_type": "code",
   "execution_count": 258,
   "id": "abcb9be3-96d5-4ebb-9f16-98264847e192",
   "metadata": {},
   "outputs": [
    {
     "data": {
      "text/plain": [
       "4"
      ]
     },
     "execution_count": 258,
     "metadata": {},
     "output_type": "execute_result"
    }
   ],
   "source": [
    "f1.tell()"
   ]
  },
  {
   "cell_type": "code",
   "execution_count": 259,
   "id": "a24b88b3-0585-4fb3-8feb-6c3ba83f5c16",
   "metadata": {},
   "outputs": [],
   "source": [
    "f1.close()"
   ]
  },
  {
   "cell_type": "code",
   "execution_count": 260,
   "id": "9b611182-027e-46d9-ba9d-6fd1f72b760e",
   "metadata": {},
   "outputs": [],
   "source": [
    "f2.close()"
   ]
  },
  {
   "cell_type": "code",
   "execution_count": 261,
   "id": "c9acb15d-d58b-45e6-ac5e-1460fa35d288",
   "metadata": {},
   "outputs": [
    {
     "data": {
      "text/plain": [
       "'C:\\\\Users\\\\seanb\\\\Desktop\\\\Pyhon_for_Data_Analysis\\\\Ch3\\\\ examples\\\\segismundo.txt'"
      ]
     },
     "execution_count": 261,
     "metadata": {},
     "output_type": "execute_result"
    }
   ],
   "source": [
    "path"
   ]
  },
  {
   "cell_type": "code",
   "execution_count": 262,
   "id": "36a3d897-80ae-4b10-b508-5f75ab53ad7e",
   "metadata": {},
   "outputs": [],
   "source": [
    "with open(\"tmp.txt\", mode=\"w\") as handle:\n",
    "    handle.writelines(x for x in open(path) if len(x) > 1)"
   ]
  },
  {
   "cell_type": "code",
   "execution_count": 263,
   "id": "725b3974-cf44-4008-8a82-375ad1f2bcdf",
   "metadata": {},
   "outputs": [],
   "source": [
    "with open(\"tmp.txt\") as f:\n",
    "    lines = f.readlines()"
   ]
  },
  {
   "cell_type": "code",
   "execution_count": 264,
   "id": "9c11b166-6e8a-454c-87f1-8fff3a0f5872",
   "metadata": {},
   "outputs": [
    {
     "data": {
      "text/plain": [
       "['SueÃ±a el rico en su riqueza,\\n',\n",
       " 'que mÃ¡s cuidados le ofrece;\\n',\n",
       " 'sueÃ±a el pobre que padece\\n',\n",
       " 'su miseria y su pobreza;\\n',\n",
       " 'sueÃ±a el que a medrar empieza,\\n',\n",
       " 'sueÃ±a el que afana y pretende,\\n',\n",
       " 'sueÃ±a el que agravia y ofende,\\n',\n",
       " 'y en el mundo, en conclusiÃ³n,\\n',\n",
       " 'todos sueÃ±an lo que son,\\n',\n",
       " 'aunque ninguno lo entiende.\\n']"
      ]
     },
     "execution_count": 264,
     "metadata": {},
     "output_type": "execute_result"
    }
   ],
   "source": [
    "lines"
   ]
  },
  {
   "cell_type": "markdown",
   "id": "24eda62c-d306-463d-bd60-139433ceff09",
   "metadata": {},
   "source": [
    "## Bytes and Unicode with Files"
   ]
  },
  {
   "cell_type": "code",
   "execution_count": 265,
   "id": "ac2b389b-5d1a-45a2-a591-0261a6312e94",
   "metadata": {},
   "outputs": [],
   "source": [
    "with open(path) as f:\n",
    "    chars = f.read(10)"
   ]
  },
  {
   "cell_type": "code",
   "execution_count": 266,
   "id": "de7a39f6-06e8-449b-bc1e-698852621b6a",
   "metadata": {},
   "outputs": [
    {
     "data": {
      "text/plain": [
       "'SueÃ±a el '"
      ]
     },
     "execution_count": 266,
     "metadata": {},
     "output_type": "execute_result"
    }
   ],
   "source": [
    "chars"
   ]
  },
  {
   "cell_type": "code",
   "execution_count": 267,
   "id": "050440ce-cac3-41ef-8d0c-ac2131dbe1d2",
   "metadata": {},
   "outputs": [
    {
     "data": {
      "text/plain": [
       "10"
      ]
     },
     "execution_count": 267,
     "metadata": {},
     "output_type": "execute_result"
    }
   ],
   "source": [
    "len(chars)"
   ]
  },
  {
   "cell_type": "code",
   "execution_count": 268,
   "id": "c5779a5c-f798-4939-acb2-63a4886306ec",
   "metadata": {},
   "outputs": [],
   "source": [
    "with open(path, mode=\"rb\") as f:\n",
    "    data = f.read(10)"
   ]
  },
  {
   "cell_type": "code",
   "execution_count": 269,
   "id": "46e5f28c-6134-4c89-b6ea-ed5b84e7650b",
   "metadata": {},
   "outputs": [
    {
     "data": {
      "text/plain": [
       "b'Sue\\xc3\\xb1a el '"
      ]
     },
     "execution_count": 269,
     "metadata": {},
     "output_type": "execute_result"
    }
   ],
   "source": [
    "data"
   ]
  },
  {
   "cell_type": "code",
   "execution_count": 270,
   "id": "4c3978a8-80b2-4497-8708-4921573f1b13",
   "metadata": {},
   "outputs": [
    {
     "data": {
      "text/plain": [
       "'Sueña el '"
      ]
     },
     "execution_count": 270,
     "metadata": {},
     "output_type": "execute_result"
    }
   ],
   "source": [
    "data.decode(\"utf-8\")"
   ]
  },
  {
   "cell_type": "code",
   "execution_count": 272,
   "id": "78a1b440-3895-4a4f-81b7-ac6265073f6d",
   "metadata": {},
   "outputs": [],
   "source": [
    "# data[:4.decode(\"utf-8\")] # Doesn't work"
   ]
  },
  {
   "cell_type": "code",
   "execution_count": 273,
   "id": "1b4bce23-084d-4ce9-856b-1a768d6c6e51",
   "metadata": {},
   "outputs": [],
   "source": [
    "sink_path = \"sink.txt\""
   ]
  },
  {
   "cell_type": "code",
   "execution_count": 274,
   "id": "dda04cbc-2374-412b-8b73-5b0cccc9386d",
   "metadata": {},
   "outputs": [],
   "source": [
    "with open(path) as source:\n",
    "    with open(sink_path, \"x\", encoding=\"iso-8859-1\") as sink:\n",
    "        sink.write(source.read())"
   ]
  },
  {
   "cell_type": "code",
   "execution_count": 275,
   "id": "4c549a94-97b2-4348-98e1-2bd2b80c752e",
   "metadata": {},
   "outputs": [
    {
     "name": "stdout",
     "output_type": "stream",
     "text": [
      "SueÃ±a el \n"
     ]
    }
   ],
   "source": [
    "with open(sink_path, encoding=\"iso-8859-1\") as f:\n",
    "    print(f.read(10))"
   ]
  },
  {
   "cell_type": "code",
   "execution_count": 276,
   "id": "817c9202-a6ab-4839-8058-84b4c632e3c4",
   "metadata": {},
   "outputs": [],
   "source": [
    "f = open(path, encoding='utf-8')"
   ]
  },
  {
   "cell_type": "code",
   "execution_count": 277,
   "id": "64cf5eba-9256-4cd4-829d-e0f3840bd37c",
   "metadata": {},
   "outputs": [
    {
     "data": {
      "text/plain": [
       "'Sueña'"
      ]
     },
     "execution_count": 277,
     "metadata": {},
     "output_type": "execute_result"
    }
   ],
   "source": [
    "f.read(5)"
   ]
  },
  {
   "cell_type": "code",
   "execution_count": 278,
   "id": "38411cfe-b412-4749-a104-a0848ec6a884",
   "metadata": {},
   "outputs": [
    {
     "data": {
      "text/plain": [
       "4"
      ]
     },
     "execution_count": 278,
     "metadata": {},
     "output_type": "execute_result"
    }
   ],
   "source": [
    "f.seek(4)"
   ]
  },
  {
   "cell_type": "code",
   "execution_count": 280,
   "id": "5e783b93-90a1-4d8a-826c-5d4b0c4cab71",
   "metadata": {},
   "outputs": [],
   "source": [
    "# won't work\n",
    "# f.read(1)"
   ]
  },
  {
   "cell_type": "code",
   "execution_count": 281,
   "id": "d2bb80dd-0534-446b-bd3f-83c0823f1922",
   "metadata": {},
   "outputs": [],
   "source": [
    "f.close()"
   ]
  },
  {
   "cell_type": "code",
   "execution_count": null,
   "id": "439192c3-4c5c-4ca5-9d7b-d30b3dd68be3",
   "metadata": {},
   "outputs": [],
   "source": []
  }
 ],
 "metadata": {
  "kernelspec": {
   "display_name": "Python 3 (ipykernel)",
   "language": "python",
   "name": "python3"
  },
  "language_info": {
   "codemirror_mode": {
    "name": "ipython",
    "version": 3
   },
   "file_extension": ".py",
   "mimetype": "text/x-python",
   "name": "python",
   "nbconvert_exporter": "python",
   "pygments_lexer": "ipython3",
   "version": "3.9.7"
  }
 },
 "nbformat": 4,
 "nbformat_minor": 5
}
